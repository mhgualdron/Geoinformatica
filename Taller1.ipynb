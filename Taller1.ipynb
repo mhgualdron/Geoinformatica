{
  "cells": [
    {
      "cell_type": "markdown",
      "metadata": {
        "id": "S_0Me9lSW76P"
      },
      "source": [
        "# Capítulo 2 - Ejercicios"
      ]
    },
    {
      "cell_type": "markdown",
      "metadata": {
        "id": "oFU7jnoiW76S"
      },
      "source": [
        "### Ejercicio 1\n",
        "Escriba un programa de Python que imprima una frase célebre."
      ]
    },
    {
      "cell_type": "code",
      "execution_count": null,
      "metadata": {
        "id": "b1LVdmsIW76T",
        "outputId": "cfeb2196-fe5a-4026-f8c0-85ff9836e4ee"
      },
      "outputs": [
        {
          "name": "stdout",
          "output_type": "stream",
          "text": [
            "Muchos años después, frente al pelotón de fusilamiento, el coronel Aureliano Buendía había de recordar aquella tarde remota en que su padre lo llevó a conocer el hielo...\n"
          ]
        }
      ],
      "source": [
        "# frase_celebre.py\n",
        "# frase_celebre.py\n",
        "# Imprimir una frase celebre\n",
        "print('Muchos años después, frente al pelotón de fusilamiento, el coronel Aureliano Buendía había de recordar aquella tarde remota en que su padre lo llevó a conocer el hielo...')\n",
        "\n"
      ]
    },
    {
      "cell_type": "markdown",
      "metadata": {
        "id": "5uIQukOcW76V"
      },
      "source": [
        "### Ejercicio 2\n",
        "Escriba un programa en Python que imprima en la pantalla una tabla con\n",
        "\n",
        "` x    sinh(x)    cosh(x)`\n",
        "\n",
        "las funciones hiperbólicas del seno y coseno, para valores de X entre 0.0 a 6.0 con incrementos de 0.5. Utilice un formato para el resultado que sea presentable. No convierta {\\tt x} a radianes. \n"
      ]
    },
    {
      "cell_type": "code",
      "execution_count": null,
      "metadata": {
        "id": "y_eWp9ekW76W",
        "outputId": "4fbbeec7-97f1-4b23-9f2a-ee9305ca8c35"
      },
      "outputs": [
        {
          "name": "stdout",
          "output_type": "stream",
          "text": [
            "Angle    sinh(x)   cosh(x)\n",
            "__________________________\n",
            "0.0       0.000,    1.000\n",
            "0.5       0.009,    1.000\n",
            "1.0       0.017,    1.000\n",
            "1.5       0.026,    1.000\n",
            "2.0       0.035,    1.001\n",
            "2.5       0.044,    1.001\n",
            "3.0       0.052,    1.001\n",
            "3.5       0.061,    1.002\n",
            "4.0       0.070,    1.002\n",
            "4.5       0.079,    1.003\n",
            "5.0       0.087,    1.004\n",
            "5.5       0.096,    1.005\n"
          ]
        }
      ],
      "source": [
        "# hyp_fun.py\n",
        "# Hacer una tabla con cosh, senh\n",
        "# desde 0.0 hasta 6.0, cada 0.5\n",
        "import numpy as np\n",
        "from math import cosh, sinh, radians\n",
        "#Se pone el encabezado de la tabla:\n",
        "print('Angle  ',' sinh(x)','  cosh(x)')\n",
        "print('__________________________')\n",
        "#Luego de las funciones ya importadas se define el formato a imprimit con la tabla:\n",
        "fmt=\"%11.3f,%9.3f\"\n",
        "i=np.arange(0,6.0,0.5) #De 0 hasta 6.0, en saltos de 0.5\n",
        "for x in i: #Creación de la lista\n",
        "    sinh_x=float(sinh(radians(x)))\n",
        "    cosh_x=float(cosh(radians(x)))\n",
        "    print(x,fmt%(sinh_x, cosh_x))\n"
      ]
    },
    {
      "cell_type": "markdown",
      "metadata": {
        "id": "4Ozn8PxgW76W"
      },
      "source": [
        "### Ejercicio 3\n",
        "Modifique el programa `multint.py`, para imprimir dos números enteros y el resultado de las 4 operaciones {\\tt +, -, *, /}. Use un formato de impresión \n",
        "adecuado para cada caso."
      ]
    },
    {
      "cell_type": "code",
      "execution_count": null,
      "metadata": {
        "id": "dzGvKFsRW76W",
        "outputId": "9cf9704a-df96-4335-a811-cc5183d37a8f"
      },
      "outputs": [
        {
          "name": "stdout",
          "output_type": "stream",
          "text": [
            "Enter number a: 15\n",
            "Enter number b: 2.6\n",
            "La suma, resta, producto y división de los números 15.0 y 2.6 da respectivamente: (17.6, 12.4, 39.0, 5.769230769230769)\n"
          ]
        }
      ],
      "source": [
        "# four_oper.py\n",
        "# Hacer 4 operaciones con 2 números enteros\n",
        "a=float(input('Enter number a: '))\n",
        "b=float(input('Enter number b: '))\n",
        "def operaciones (a,b):\n",
        "    suma=a+b\n",
        "    resta=a-b\n",
        "    prod=a*b\n",
        "    div=a/b\n",
        "    return(suma,resta,prod,div)\n",
        "print('La suma, resta, producto y división de los números',a,'y',b,'da respectivamente:',operaciones(a,b))\n"
      ]
    },
    {
      "cell_type": "markdown",
      "metadata": {
        "id": "5YwIf9OHW76X"
      },
      "source": [
        "### Ejercicio 5\n",
        "Genera una tabla, con los siguientes valores\n",
        "$$\n",
        "x \\quad  \\log10(x) \\quad \\log(x) \\quad \\sqrt(x)\n",
        "$$\n",
        "Haga tantos `loops` como sea posible, empezando con $i=0, x=1.01$. Para el siguiente `loop` \n",
        "- $i = 0, \\quad x_i = 1.01 $\n",
        "- $i = 1, \\quad x_i = x_{i-1}(i+1)$\n",
        "- $ i = 2, \\quad \\cdots $\n",
        "\n",
        "En cada loop calcule los logaritmos y raíz cuadrada. Eventualmente el resultado no va a caber en el computador (los números serán muy grandes). En su equipo, hasta cuándo puede hacer esto? Esto muestra el límite de precisión del computador. \n",
        "  \n",
        "Los primeros valores de $x$ deben ser $1.01$, $2.02$, $6.06$, $24.24$, $...$_"
      ]
    },
    {
      "cell_type": "code",
      "execution_count": null,
      "metadata": {
        "id": "sdu6a39VW76Y",
        "outputId": "2b0fd839-cf54-4b93-ddea-464982b4b73c"
      },
      "outputs": [
        {
          "name": "stdout",
          "output_type": "stream",
          "text": [
            "    x         log10         log          raíz\n",
            "_______________________________________________\n",
            "1.01E+00f,  4.3E-03f,    1.0E-02f,     1.0E+00f\n",
            "2.02E+00f,  3.1E-01f,    7.0E-01f,     1.4E+00f\n",
            "6.06E+00f,  7.8E-01f,    1.8E+00f,     2.5E+00f\n",
            "2.42E+01f,  1.4E+00f,    3.2E+00f,     4.9E+00f\n",
            "1.21E+02f,  2.1E+00f,    4.8E+00f,     1.1E+01f\n",
            "7.27E+02f,  2.9E+00f,    6.6E+00f,     2.7E+01f\n",
            "5.09E+03f,  3.7E+00f,    8.5E+00f,     7.1E+01f\n",
            "4.07E+04f,  4.6E+00f,    1.1E+01f,     2.0E+02f\n",
            "3.67E+05f,  5.6E+00f,    1.3E+01f,     6.1E+02f\n",
            "3.67E+06f,  6.6E+00f,    1.5E+01f,     1.9E+03f\n",
            "4.03E+07f,  7.6E+00f,    1.8E+01f,     6.3E+03f\n",
            "4.84E+08f,  8.7E+00f,    2.0E+01f,     2.2E+04f\n",
            "6.29E+09f,  9.8E+00f,    2.3E+01f,     7.9E+04f\n",
            "8.81E+10f,  1.1E+01f,    2.5E+01f,     3.0E+05f\n",
            "1.32E+12f,  1.2E+01f,    2.8E+01f,     1.1E+06f\n",
            "2.11E+13f,  1.3E+01f,    3.1E+01f,     4.6E+06f\n",
            "3.59E+14f,  1.5E+01f,    3.4E+01f,     1.9E+07f\n",
            "6.47E+15f,  1.6E+01f,    3.6E+01f,     8.0E+07f\n",
            "1.23E+17f,  1.7E+01f,    3.9E+01f,     3.5E+08f\n",
            "2.46E+18f,  1.8E+01f,    4.2E+01f,     1.6E+09f\n",
            "5.16E+19f,  2.0E+01f,    4.5E+01f,     7.2E+09f\n",
            "1.14E+21f,  2.1E+01f,    4.8E+01f,     3.4E+10f\n",
            "2.61E+22f,  2.2E+01f,    5.2E+01f,     1.6E+11f\n",
            "6.27E+23f,  2.4E+01f,    5.5E+01f,     7.9E+11f\n",
            "1.57E+25f,  2.5E+01f,    5.8E+01f,     4.0E+12f\n",
            "4.07E+26f,  2.7E+01f,    6.1E+01f,     2.0E+13f\n",
            "1.10E+28f,  2.8E+01f,    6.5E+01f,     1.0E+14f\n",
            "3.08E+29f,  2.9E+01f,    6.8E+01f,     5.5E+14f\n",
            "8.93E+30f,  3.1E+01f,    7.1E+01f,     3.0E+15f\n",
            "2.68E+32f,  3.2E+01f,    7.5E+01f,     1.6E+16f\n",
            "8.31E+33f,  3.4E+01f,    7.8E+01f,     9.1E+16f\n",
            "2.66E+35f,  3.5E+01f,    8.2E+01f,     5.2E+17f\n",
            "8.77E+36f,  3.7E+01f,    8.5E+01f,     3.0E+18f\n",
            "2.98E+38f,  3.8E+01f,    8.9E+01f,     1.7E+19f\n",
            "1.04E+40f,  4.0E+01f,    9.2E+01f,     1.0E+20f\n",
            "3.76E+41f,  4.2E+01f,    9.6E+01f,     6.1E+20f\n",
            "1.39E+43f,  4.3E+01f,    9.9E+01f,     3.7E+21f\n",
            "5.28E+44f,  4.5E+01f,    1.0E+02f,     2.3E+22f\n",
            "2.06E+46f,  4.6E+01f,    1.1E+02f,     1.4E+23f\n",
            "8.24E+47f,  4.8E+01f,    1.1E+02f,     9.1E+23f\n",
            "3.38E+49f,  5.0E+01f,    1.1E+02f,     5.8E+24f\n",
            "1.42E+51f,  5.1E+01f,    1.2E+02f,     3.8E+25f\n",
            "6.10E+52f,  5.3E+01f,    1.2E+02f,     2.5E+26f\n",
            "2.68E+54f,  5.4E+01f,    1.3E+02f,     1.6E+27f\n",
            "1.21E+56f,  5.6E+01f,    1.3E+02f,     1.1E+28f\n",
            "5.56E+57f,  5.8E+01f,    1.3E+02f,     7.5E+28f\n",
            "2.61E+59f,  5.9E+01f,    1.4E+02f,     5.1E+29f\n",
            "1.25E+61f,  6.1E+01f,    1.4E+02f,     3.5E+30f\n",
            "6.14E+62f,  6.3E+01f,    1.4E+02f,     2.5E+31f\n",
            "3.07E+64f,  6.4E+01f,    1.5E+02f,     1.8E+32f\n",
            "1.57E+66f,  6.6E+01f,    1.5E+02f,     1.3E+33f\n",
            "8.15E+67f,  6.8E+01f,    1.6E+02f,     9.0E+33f\n",
            "4.32E+69f,  7.0E+01f,    1.6E+02f,     6.6E+34f\n",
            "2.33E+71f,  7.1E+01f,    1.6E+02f,     4.8E+35f\n",
            "1.28E+73f,  7.3E+01f,    1.7E+02f,     3.6E+36f\n",
            "7.18E+74f,  7.5E+01f,    1.7E+02f,     2.7E+37f\n",
            "4.09E+76f,  7.7E+01f,    1.8E+02f,     2.0E+38f\n",
            "2.37E+78f,  7.8E+01f,    1.8E+02f,     1.5E+39f\n",
            "1.40E+80f,  8.0E+01f,    1.8E+02f,     1.2E+40f\n",
            "8.40E+81f,  8.2E+01f,    1.9E+02f,     9.2E+40f\n",
            "5.13E+83f,  8.4E+01f,    1.9E+02f,     7.2E+41f\n",
            "3.18E+85f,  8.6E+01f,    2.0E+02f,     5.6E+42f\n",
            "2.00E+87f,  8.7E+01f,    2.0E+02f,     4.5E+43f\n",
            "1.28E+89f,  8.9E+01f,    2.1E+02f,     3.6E+44f\n",
            "8.33E+90f,  9.1E+01f,    2.1E+02f,     2.9E+45f\n",
            "5.50E+92f,  9.3E+01f,    2.1E+02f,     2.3E+46f\n",
            "3.68E+94f,  9.5E+01f,    2.2E+02f,     1.9E+47f\n",
            "2.50E+96f,  9.6E+01f,    2.2E+02f,     1.6E+48f\n",
            "1.73E+98f,  9.8E+01f,    2.3E+02f,     1.3E+49f\n",
            "1.21E+100f,  1.0E+02f,    2.3E+02f,     1.1E+50f\n",
            "8.59E+101f,  1.0E+02f,    2.3E+02f,     9.3E+50f\n",
            "6.18E+103f,  1.0E+02f,    2.4E+02f,     7.9E+51f\n",
            "4.51E+105f,  1.1E+02f,    2.4E+02f,     6.7E+52f\n",
            "3.34E+107f,  1.1E+02f,    2.5E+02f,     5.8E+53f\n",
            "2.51E+109f,  1.1E+02f,    2.5E+02f,     5.0E+54f\n",
            "1.90E+111f,  1.1E+02f,    2.6E+02f,     4.4E+55f\n",
            "1.47E+113f,  1.1E+02f,    2.6E+02f,     3.8E+56f\n",
            "1.14E+115f,  1.2E+02f,    2.6E+02f,     3.4E+57f\n",
            "9.04E+116f,  1.2E+02f,    2.7E+02f,     3.0E+58f\n",
            "7.23E+118f,  1.2E+02f,    2.7E+02f,     2.7E+59f\n",
            "5.86E+120f,  1.2E+02f,    2.8E+02f,     2.4E+60f\n",
            "4.80E+122f,  1.2E+02f,    2.8E+02f,     2.2E+61f\n",
            "3.98E+124f,  1.2E+02f,    2.9E+02f,     2.0E+62f\n",
            "3.35E+126f,  1.3E+02f,    2.9E+02f,     1.8E+63f\n",
            "2.85E+128f,  1.3E+02f,    3.0E+02f,     1.7E+64f\n",
            "2.45E+130f,  1.3E+02f,    3.0E+02f,     1.6E+65f\n",
            "2.13E+132f,  1.3E+02f,    3.0E+02f,     1.5E+66f\n",
            "1.87E+134f,  1.3E+02f,    3.1E+02f,     1.4E+67f\n",
            "1.67E+136f,  1.4E+02f,    3.1E+02f,     1.3E+68f\n",
            "1.50E+138f,  1.4E+02f,    3.2E+02f,     1.2E+69f\n",
            "1.37E+140f,  1.4E+02f,    3.2E+02f,     1.2E+70f\n",
            "1.26E+142f,  1.4E+02f,    3.3E+02f,     1.1E+71f\n",
            "1.17E+144f,  1.4E+02f,    3.3E+02f,     1.1E+72f\n",
            "1.10E+146f,  1.5E+02f,    3.4E+02f,     1.0E+73f\n",
            "1.04E+148f,  1.5E+02f,    3.4E+02f,     1.0E+74f\n",
            "1.00E+150f,  1.5E+02f,    3.5E+02f,     1.0E+75f\n",
            "9.72E+151f,  1.5E+02f,    3.5E+02f,     9.9E+75f\n",
            "9.52E+153f,  1.5E+02f,    3.5E+02f,     9.8E+76f\n",
            "9.43E+155f,  1.6E+02f,    3.6E+02f,     9.7E+77f\n",
            "9.43E+157f,  1.6E+02f,    3.6E+02f,     9.7E+78f\n",
            "9.52E+159f,  1.6E+02f,    3.7E+02f,     9.8E+79f\n",
            "9.71E+161f,  1.6E+02f,    3.7E+02f,     9.9E+80f\n",
            "1.00E+164f,  1.6E+02f,    3.8E+02f,     1.0E+82f\n",
            "1.04E+166f,  1.7E+02f,    3.8E+02f,     1.0E+83f\n",
            "1.09E+168f,  1.7E+02f,    3.9E+02f,     1.0E+84f\n",
            "1.16E+170f,  1.7E+02f,    3.9E+02f,     1.1E+85f\n",
            "1.24E+172f,  1.7E+02f,    4.0E+02f,     1.1E+86f\n",
            "1.34E+174f,  1.7E+02f,    4.0E+02f,     1.2E+87f\n",
            "1.46E+176f,  1.8E+02f,    4.1E+02f,     1.2E+88f\n",
            "1.60E+178f,  1.8E+02f,    4.1E+02f,     1.3E+89f\n",
            "1.78E+180f,  1.8E+02f,    4.2E+02f,     1.3E+90f\n",
            "1.99E+182f,  1.8E+02f,    4.2E+02f,     1.4E+91f\n",
            "2.25E+184f,  1.8E+02f,    4.2E+02f,     1.5E+92f\n",
            "2.57E+186f,  1.9E+02f,    4.3E+02f,     1.6E+93f\n",
            "2.95E+188f,  1.9E+02f,    4.3E+02f,     1.7E+94f\n",
            "3.43E+190f,  1.9E+02f,    4.4E+02f,     1.9E+95f\n",
            "4.01E+192f,  1.9E+02f,    4.4E+02f,     2.0E+96f\n",
            "4.73E+194f,  1.9E+02f,    4.5E+02f,     2.2E+97f\n",
            "5.63E+196f,  2.0E+02f,    4.5E+02f,     2.4E+98f\n",
            "6.76E+198f,  2.0E+02f,    4.6E+02f,     2.6E+99f\n",
            "8.18E+200f,  2.0E+02f,    4.6E+02f,    2.9E+100f\n",
            "9.97E+202f,  2.0E+02f,    4.7E+02f,    3.2E+101f\n",
            "1.23E+205f,  2.1E+02f,    4.7E+02f,    3.5E+102f\n",
            "1.52E+207f,  2.1E+02f,    4.8E+02f,    3.9E+103f\n",
            "1.90E+209f,  2.1E+02f,    4.8E+02f,    4.4E+104f\n",
            "2.40E+211f,  2.1E+02f,    4.9E+02f,    4.9E+105f\n",
            "3.04E+213f,  2.1E+02f,    4.9E+02f,    5.5E+106f\n",
            "3.89E+215f,  2.2E+02f,    5.0E+02f,    6.2E+107f\n",
            "5.02E+217f,  2.2E+02f,    5.0E+02f,    7.1E+108f\n",
            "6.53E+219f,  2.2E+02f,    5.1E+02f,    8.1E+109f\n",
            "8.56E+221f,  2.2E+02f,    5.1E+02f,    9.3E+110f\n",
            "1.13E+224f,  2.2E+02f,    5.2E+02f,    1.1E+112f\n",
            "1.50E+226f,  2.3E+02f,    5.2E+02f,    1.2E+113f\n",
            "2.01E+228f,  2.3E+02f,    5.3E+02f,    1.4E+114f\n",
            "2.72E+230f,  2.3E+02f,    5.3E+02f,    1.6E+115f\n",
            "3.70E+232f,  2.3E+02f,    5.4E+02f,    1.9E+116f\n",
            "5.06E+234f,  2.3E+02f,    5.4E+02f,    2.3E+117f\n",
            "6.99E+236f,  2.4E+02f,    5.5E+02f,    2.6E+118f\n",
            "9.71E+238f,  2.4E+02f,    5.5E+02f,    3.1E+119f\n",
            "1.36E+241f,  2.4E+02f,    5.6E+02f,    3.7E+120f\n",
            "1.92E+243f,  2.4E+02f,    5.6E+02f,    4.4E+121f\n",
            "2.72E+245f,  2.5E+02f,    5.7E+02f,    5.2E+122f\n",
            "3.89E+247f,  2.5E+02f,    5.7E+02f,    6.2E+123f\n",
            "5.61E+249f,  2.5E+02f,    5.8E+02f,    7.5E+124f\n",
            "8.13E+251f,  2.5E+02f,    5.8E+02f,    9.0E+125f\n",
            "1.19E+254f,  2.5E+02f,    5.9E+02f,    1.1E+127f\n",
            "1.74E+256f,  2.6E+02f,    5.9E+02f,    1.3E+128f\n",
            "2.58E+258f,  2.6E+02f,    6.0E+02f,    1.6E+129f\n",
            "3.85E+260f,  2.6E+02f,    6.0E+02f,    2.0E+130f\n",
            "5.77E+262f,  2.6E+02f,    6.1E+02f,    2.4E+131f\n",
            "8.71E+264f,  2.6E+02f,    6.1E+02f,    3.0E+132f\n",
            "1.32E+267f,  2.7E+02f,    6.2E+02f,    3.6E+133f\n",
            "2.03E+269f,  2.7E+02f,    6.2E+02f,    4.5E+134f\n",
            "3.12E+271f,  2.7E+02f,    6.3E+02f,    5.6E+135f\n",
            "4.84E+273f,  2.7E+02f,    6.3E+02f,    7.0E+136f\n",
            "7.55E+275f,  2.8E+02f,    6.4E+02f,    8.7E+137f\n",
            "1.18E+278f,  2.8E+02f,    6.4E+02f,    1.1E+139f\n",
            "1.87E+280f,  2.8E+02f,    6.5E+02f,    1.4E+140f\n",
            "2.98E+282f,  2.8E+02f,    6.5E+02f,    1.7E+141f\n",
            "4.76E+284f,  2.8E+02f,    6.6E+02f,    2.2E+142f\n",
            "7.67E+286f,  2.9E+02f,    6.6E+02f,    2.8E+143f\n",
            "1.24E+289f,  2.9E+02f,    6.7E+02f,    3.5E+144f\n",
            "2.02E+291f,  2.9E+02f,    6.7E+02f,    4.5E+145f\n",
            "3.32E+293f,  2.9E+02f,    6.8E+02f,    5.8E+146f\n",
            "5.48E+295f,  3.0E+02f,    6.8E+02f,    7.4E+147f\n",
            "9.09E+297f,  3.0E+02f,    6.9E+02f,    9.5E+148f\n",
            "1.52E+300f,  3.0E+02f,    6.9E+02f,    1.2E+150f\n",
            "2.55E+302f,  3.0E+02f,    7.0E+02f,    1.6E+151f\n",
            "4.31E+304f,  3.0E+02f,    7.0E+02f,    2.1E+152f\n",
            "7.33E+306f,  3.1E+02f,    7.1E+02f,    2.7E+153f\n"
          ]
        }
      ],
      "source": [
        "### Ejercicio 5\n",
        "### Ejercicio 5\n",
        "import math\n",
        "from math import inf,sin\n",
        "fmt=\"%1.2Ef,%9.1Ef,%11.1Ef,%12.1Ef\" #Se le agrega a cada variable el número de espacios y decimales EF para exponencial\n",
        "i= None\n",
        "x= None   \n",
        "print ('    x         log10         log          raíz')\n",
        "print('_______________________________________________')\n",
        "while True:\n",
        "  if i == None: \n",
        "    i= 0\n",
        "    x= 1.01\n",
        "  else:\n",
        "    i= i+1\n",
        "    x= x*(i+1)\n",
        "  log10 = math.log(x,10)\n",
        "  log = math.log(x)\n",
        "  raiz = math.sqrt(x)\n",
        "  if x ==inf or log ==inf or log10 ==inf or raiz==inf :\n",
        "    break\n",
        "  \n",
        "  print(fmt%(x,log10,log,raiz))\n",
        "\n",
        "        \n"
      ]
    },
    {
      "cell_type": "markdown",
      "metadata": {
        "id": "3b2OeN5NW76Y"
      },
      "source": [
        "### Ejercicio 6\n",
        "\n",
        "Asumiendo que la velocidad absoluta de una placa tectónica es de 55 mm/a, calcule a qué distancia de la dorsal se encuentra una roca de 1Ma, de 8Ma y de 60Ma. "
      ]
    },
    {
      "cell_type": "code",
      "execution_count": null,
      "metadata": {
        "id": "0qIclJhXW76Z",
        "outputId": "7d826ffa-c258-4baf-bd3c-a8f8dbf561c0"
      },
      "outputs": [
        {
          "name": "stdout",
          "output_type": "stream",
          "text": [
            "Ingrese la edad en millones de años (Ma): 1\n",
            "Ingrese la edad en millones de años (Ma): 8\n",
            "Ingrese la edad en millones de años (Ma): 60\n",
            "Posición de la placa en 1.0 Ma: 55000000.0 mm del punto inicial\n",
            "Posición de la placa en 8.0 Ma: 440000000.0 mm del punto inicial\n",
            "Posición de la placa en 60.0 Ma: 3300000000.0 mm del punto inicial\n"
          ]
        }
      ],
      "source": [
        "# Dada la velocidad de un movimiento de una placa tectónica\n",
        "# calcule cuanto se ha desplazado en 1, 8, 60 Ma\n",
        "#se asume un tiempo 0\n",
        "tMa1=float(input('Ingrese la edad en millones de años (Ma): '))\n",
        "tMa2=float(input('Ingrese la edad en millones de años (Ma): '))\n",
        "tMa3=float(input('Ingrese la edad en millones de años (Ma): '))\n",
        "vp=55.0 #mm/a\n",
        "def posicion_placa(tMa,vp):\n",
        "    x=((tMa*1000000)*vp) \n",
        "    return x\n",
        "#Con la ecuación de la posición de la placa se aplica a cada instante de tiempo\n",
        "posicion_1=posicion_placa(tMa1,vp)\n",
        "posicion_2=posicion_placa(tMa2,vp)\n",
        "posicion_3=posicion_placa(tMa3,vp)\n",
        "print('Posición de la placa en',tMa1,'Ma:',posicion_1,'mm del punto inicial')\n",
        "print('Posición de la placa en',tMa2,'Ma:',posicion_2,'mm del punto inicial')\n",
        "print('Posición de la placa en',tMa3,'Ma:',posicion_3,'mm del punto inicial')\n",
        "\n"
      ]
    },
    {
      "cell_type": "markdown",
      "metadata": {
        "id": "Z0xNPRJsW76Z"
      },
      "source": [
        "### Ejercicio 7\n",
        "\n",
        "Una placa tectónica tiene una velocidad (horizontal) absoluta de 66 mm/a y subduce con un ángulo de 60 grados por debajo de otra placa. A qué profundidad estaría la placa después de 1Ma, 5Ma, y de 40Ma de comenzar a subducir? Cuánto tardaría la placa en llegar al límite manto superior - manto inferior (660 km)?\n",
        "\n"
      ]
    },
    {
      "cell_type": "code",
      "execution_count": null,
      "metadata": {
        "id": "d1tVVOftW76a",
        "outputId": "c619e472-4049-42dc-8f5a-2adba45e15a5"
      },
      "outputs": [
        {
          "name": "stdout",
          "output_type": "stream",
          "text": [
            "Ingrese la edad en millones de años (Ma): 1\n",
            "Ingrese la edad en millones de años (Ma): 5\n",
            "Ingrese la edad en millones de años (Ma): 40\n",
            "Ingrese el ángulo de subducción (considere grados negativos): -60\n",
            "-1.0\n",
            "1. A qué profundidad estaría la placa después de 1Ma, 5Ma, y de 40Ma de comenzar a subducir?\n",
            "Profundidad de la placa a 1.0 Ma de subducir: -57157676.650 mm\n",
            "Profundidad de la placa a 5.0 Ma de subducir: -285788383.249 mm\n",
            "Produndidad de la placa a 40.0 Ma de subducir: -2286307065.991 mm\n",
            "-----______-----_______-----______-----______-----______-----_____\n",
            "2. Cuánto tardaría la placa en llegar al límite manto superior - manto inferior (660 km)?\n",
            "El tiempo estimado de llegada al manto, bajo las condiciones iniciales dadas para el problema es:\n",
            "11.547 Ma\n"
          ]
        }
      ],
      "source": [
        "# Dada una placa en subducción con velocidad horizontal dada\n",
        "#Usar teorema del Seno: sen(60)/h = sen(90)/posicion de subduccion a 'x'Ma\n",
        "from math import sin,radians\n",
        "fmt=\"%2.3f\" #cuantos espacios.cuantos decimales\n",
        "#Se procesan primero los input:\n",
        "tMa1=float(input('Ingrese la edad en millones de años (Ma): '))\n",
        "tMa2=float(input('Ingrese la edad en millones de años (Ma): '))\n",
        "tMa3=float(input('Ingrese la edad en millones de años (Ma): '))\n",
        "ang_sub=radians(float(input('Ingrese el ángulo de subducción (considere grados negativos): ')))\n",
        "#-60° con respecto al nivel del mar\n",
        "\n",
        "vp=-1*66 #mm/a\n",
        "sin_270=float(sin(radians(270)))\n",
        "print(sin_270)\n",
        "def posx(tMa,vp): #Ma*mm/a\n",
        "    xt=(tMa*1000000)*vp #a*mm/a\n",
        "    return xt\n",
        "posicion_1=float(posx(tMa1,vp))\n",
        "x1=posicion_1\n",
        "posicion_2=float(posx(tMa2,vp))\n",
        "x2=posicion_2\n",
        "posicion_3=float(posx(tMa3,vp))\n",
        "x3=posicion_3\n",
        "\n",
        "def ley_seno(sin_ang_sub,sin_270,posicion_placa):\n",
        "    h=sin(ang_sub)*sin_270*posicion_placa\n",
        "    return h\n",
        "h1=(ley_seno(ang_sub,sin_270,posx(tMa1,vp)))\n",
        "h2=(ley_seno(ang_sub,sin_270,posx(tMa2,vp)))\n",
        "h3=(ley_seno(ang_sub,sin_270,posx(tMa3,vp)))\n",
        "print('1. A qué profundidad estaría la placa después de 1Ma, 5Ma, y de 40Ma de comenzar a subducir?')\n",
        "print('Profundidad de la placa a',tMa1,'Ma de subducir:',(fmt%(h1)),'mm') #Ingresar 1Ma\n",
        "print('Profundidad de la placa a',tMa2,'Ma de subducir:',(fmt%(h2)),'mm') #Ingresar 5Ma\n",
        "print('Produndidad de la placa a',tMa3,'Ma de subducir:',(fmt%(h3)),'mm') #40Ma\n",
        "print ('-----______-----_______-----______-----______-----______-----_____')\n",
        "\n",
        "print('2. Cuánto tardaría la placa en llegar al límite manto superior - manto inferior (660 km)?')\n",
        "h_manto=(-1*660*(1000)*(100)*(10)) #X Km* 1000m en cada km, 100cm en cada metro, hay 10mm en cada cm\n",
        "t_manto=(h_manto/((sin_270)*sin(ang_sub)*vp))\n",
        "print('El tiempo estimado de llegada al manto, bajo las condiciones iniciales dadas para el problema es:')\n",
        "print((fmt%(t_manto/1000000)),'Ma')"
      ]
    },
    {
      "cell_type": "code",
      "execution_count": null,
      "metadata": {
        "id": "gApQnAjSW76a",
        "outputId": "876892e8-a8b9-4c7f-e3d6-4c3afbf76f5b"
      },
      "outputs": [
        {
          "name": "stdout",
          "output_type": "stream",
          "text": [
            "Fin del taller <:°)\n"
          ]
        }
      ],
      "source": [
        "print('Fin del taller <:°)')"
      ]
    },
    {
      "cell_type": "code",
      "execution_count": null,
      "metadata": {
        "id": "a7upFClxW76b"
      },
      "outputs": [],
      "source": []
    }
  ],
  "metadata": {
    "kernelspec": {
      "display_name": "Python 3 (ipykernel)",
      "language": "python",
      "name": "python3"
    },
    "language_info": {
      "codemirror_mode": {
        "name": "ipython",
        "version": 3
      },
      "file_extension": ".py",
      "mimetype": "text/x-python",
      "name": "python",
      "nbconvert_exporter": "python",
      "pygments_lexer": "ipython3",
      "version": "3.7.10"
    },
    "colab": {
      "provenance": []
    }
  },
  "nbformat": 4,
  "nbformat_minor": 0
}