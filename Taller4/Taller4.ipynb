{
  "nbformat": 4,
  "nbformat_minor": 0,
  "metadata": {
    "kernelspec": {
      "display_name": "Python 3 (ipykernel)",
      "language": "python",
      "name": "python3"
    },
    "language_info": {
      "codemirror_mode": {
        "name": "ipython",
        "version": 3
      },
      "file_extension": ".py",
      "mimetype": "text/x-python",
      "name": "python",
      "nbconvert_exporter": "python",
      "pygments_lexer": "ipython3",
      "version": "3.7.10"
    },
    "colab": {
      "name": "Taller4_MateoHernándezGualdrón.ipynb",
      "provenance": [],
      "collapsed_sections": []
    }
  },
  "cells": [
    {
      "cell_type": "markdown",
      "metadata": {
        "id": "S2z35Lk_DS7r"
      },
      "source": [
        "# Capítulo 5 - Ejercicios"
      ]
    },
    {
      "cell_type": "markdown",
      "metadata": {
        "id": "kKy0JipIDS7x"
      },
      "source": [
        "### Ejercicio 1\n",
        "\n",
        "Basado en el programa `primos.py` y la función `enc_primos.py`, escriba un programa que genere una matriz en la cual se organicen los números primos. Pero en este caso, organícelos en forma de hélice, es decir\n",
        "```\n",
        "2x2 matrix\n",
        "[[ 2.  3.]\n",
        " [ 7.  5.]]\n",
        "3x3 matrix\n",
        "[[ 17.  19.  23.]\n",
        " [ 13.   2.   3.]\n",
        " [ 11.   7.   5.]]\n",
        "4x4 matrix\n",
        "[[ 17.  19.  23.  29.]\n",
        " [ 13.   2.   3.  31.]\n",
        " [ 11.   7.   5.  37.]\n",
        " [ 53.  47.  43.  41.]]\n",
        "```\n",
        "Permita que se pueda crear la matriz de diferentes tamaños (`5x5`, `6x6`, ...)."
      ]
    },
    {
      "cell_type": "code",
      "metadata": {
        "id": "Z0TbfOz9DS70"
      },
      "source": [
        "import numpy as np\n",
        "import math as math"
      ],
      "execution_count": null,
      "outputs": []
    },
    {
      "cell_type": "code",
      "metadata": {
        "id": "fboQnY5x7AFk"
      },
      "source": [
        "import numpy as np\n",
        "import math\n",
        "def primos_vector(maxnum):\n",
        "  prime = np.zeros(maxnum,dtype=int)\n",
        "  prime[0]=1  \n",
        "  for ipos in range (1,maxnum):\n",
        "    if (prime[ipos]==1):\n",
        "      continue \n",
        "    inum = ipos+1   \n",
        "    maxj = int(np.floor(maxnum/inum)) \n",
        "    for j in range (2,maxj+1):\n",
        "      imult = j*inum  \n",
        "      prime[imult-1]=1\n",
        "  nprime = np.count_nonzero(prime==0)\n",
        "  pvec = np.zeros(nprime,dtype=int)\n",
        "  ncnt = 0\n",
        "  for ipos in range(maxnum):\n",
        "    if (prime[ipos]==0):\n",
        "      inum = ipos+1\n",
        "      pvec[ncnt]=inum\n",
        "      ncnt = ncnt+1\n",
        "  return pvec\n",
        "  "
      ],
      "execution_count": null,
      "outputs": []
    },
    {
      "cell_type": "code",
      "metadata": {
        "colab": {
          "base_uri": "https://localhost:8080/"
        },
        "id": "Dx0nDbqZeQFy",
        "outputId": "87c6c10d-cc0e-40e5-c443-75d6ceff9b54"
      },
      "source": [
        "while True: \n",
        "   contp,conti = 0,0\n",
        "   cant = int(input('Ingresar el número a evaluar para conocer los números primos, (0 para terminar): \\n')) \n",
        "   if cant ==0:\n",
        "     print('Fin del programa')\n",
        "     break  \n",
        "   dim = int(input('Ingrese la dimensión a, de la matriz axa (un número, por ejemplo a = 2): '))\n",
        "   primos = primos_vector(cant) \n",
        "   if len(primos)<(dim**2):\n",
        "      print(f'No hay suficientes números primos en el rango para fabricar una matriz {dim}x{dim}')\n",
        "      continue\n",
        "   vprimos = primos[0:dim**2]\n",
        "   mprimos = np.zeros([dim,dim], dtype=int)\n",
        "   for i in range(1,dim+1):\n",
        "      if (i%2==0): \n",
        "          contp = contp+1\n",
        "          i_fcd = pospi+contp                                                              #Sea i_fcd el indicador_filas_columnas_a_la_derecha               \n",
        "          col = vprimos[((i-1)**2):(((i-1)**2)+(i-1))+1]\n",
        "          mprimos[pospi-conti:i_fcd+1,i_fcd]= col\n",
        "          fil = np.flip(vprimos[(((i-1)**2)+(i-1)):(((i-1)**2)+(2*(i-1)))+1])              #Que cada número i par se invirtan las filas             \n",
        "          mprimos[i_fcd, pospi-conti:i_fcd+1]=fil                            \n",
        "      else: \n",
        "          if (i==1):\n",
        "              pospi = math.ceil(((dim/2)-1))                                                #pospi: posición inicial\n",
        "              mprimos[pospi,pospi]=2\n",
        "          else:\n",
        "              conti = conti+1\n",
        "              i_fci = pospi-conti                                                           #i_fci:Sea i_fcd el indicador_filas_columnas_a_la_izquierda\n",
        "              col = np.flip(vprimos[((i**2)-((2*i)-1)):((i**2)-i)+1])                       #Que cada número i impar invierten columnas\n",
        "              mprimos[pospi-conti:i_fcd+1, i_fci]=col\n",
        "              fil = vprimos[((i**2)-i):(i**2)]\n",
        "              mprimos[i_fci, pospi-conti:i_fcd+1]=fil\n",
        "\n",
        "   print(mprimos,'\\n')  \n"
      ],
      "execution_count": null,
      "outputs": [
        {
          "output_type": "stream",
          "name": "stdout",
          "text": [
            "Ingresar el número a evaluar para conocer los números primos, (0 para terminar): \n",
            "1000\n",
            "Ingrese la dimensión a, de la matriz axa (un número, por ejemplo a = 2): 2\n",
            "[[2 3]\n",
            " [7 5]] \n",
            "\n",
            "Ingresar el número a evaluar para conocer los números primos, (0 para terminar): \n",
            "1000\n",
            "Ingrese la dimensión a, de la matriz axa (un número, por ejemplo a = 2): 3\n",
            "[[17 19 23]\n",
            " [13  2  3]\n",
            " [11  7  5]] \n",
            "\n",
            "Ingresar el número a evaluar para conocer los números primos, (0 para terminar): \n",
            "1000\n",
            "Ingrese la dimensión a, de la matriz axa (un número, por ejemplo a = 2): 4\n",
            "[[17 19 23 29]\n",
            " [13  2  3 31]\n",
            " [11  7  5 37]\n",
            " [53 47 43 41]] \n",
            "\n",
            "Ingresar el número a evaluar para conocer los números primos, (0 para terminar): \n",
            "1000\n",
            "Ingrese la dimensión a, de la matriz axa (un número, por ejemplo a = 2): 5\n",
            "[[73 79 83 89 97]\n",
            " [71 17 19 23 29]\n",
            " [67 13  2  3 31]\n",
            " [61 11  7  5 37]\n",
            " [59 53 47 43 41]] \n",
            "\n",
            "Ingresar el número a evaluar para conocer los números primos, (0 para terminar): \n",
            "1000\n",
            "Ingrese la dimensión a, de la matriz axa (un número, por ejemplo a = 2): 6\n",
            "[[ 73  79  83  89  97 101]\n",
            " [ 71  17  19  23  29 103]\n",
            " [ 67  13   2   3  31 107]\n",
            " [ 61  11   7   5  37 109]\n",
            " [ 59  53  47  43  41 113]\n",
            " [151 149 139 137 131 127]] \n",
            "\n",
            "Ingresar el número a evaluar para conocer los números primos, (0 para terminar): \n",
            "1000\n",
            "Ingrese la dimensión a, de la matriz axa (un número, por ejemplo a = 2): 7\n",
            "[[191 193 197 199 211 223 227]\n",
            " [181  73  79  83  89  97 101]\n",
            " [179  71  17  19  23  29 103]\n",
            " [173  67  13   2   3  31 107]\n",
            " [167  61  11   7   5  37 109]\n",
            " [163  59  53  47  43  41 113]\n",
            " [157 151 149 139 137 131 127]] \n",
            "\n",
            "Ingresar el número a evaluar para conocer los números primos, (0 para terminar): \n",
            "10000\n",
            "Ingrese la dimensión a, de la matriz axa (un número, por ejemplo a = 2): 8\n",
            "[[191 193 197 199 211 223 227 229]\n",
            " [181  73  79  83  89  97 101 233]\n",
            " [179  71  17  19  23  29 103 239]\n",
            " [173  67  13   2   3  31 107 241]\n",
            " [167  61  11   7   5  37 109 251]\n",
            " [163  59  53  47  43  41 113 257]\n",
            " [157 151 149 139 137 131 127 263]\n",
            " [311 307 293 283 281 277 271 269]] \n",
            "\n",
            "Ingresar el número a evaluar para conocer los números primos, (0 para terminar): \n",
            "0\n",
            "Fin del programa\n"
          ]
        }
      ]
    },
    {
      "cell_type": "markdown",
      "metadata": {
        "id": "1ixriRhdDS73"
      },
      "source": [
        "### Ejercicio 2\n",
        "\n",
        "Un análisis simple de una serie de datos incluye el cálculo del promedio (mean) y la desviación estandard (std). Sin embargo, algunos datos tienen distribuciones estadísticas que no son normales (gaussiana), y una mejor descripción del valor medio de los datos se obtiene con la mediana (median). Para calcular la mediana, se requiere organizar los datos de manera ascendente y así determinar la mediana. Una función que permite reorganizar un arreglo de números utiliza el método de `quicksort`, disponible en mi caso en el módulo.\n",
        "\n",
        "Cree dos arreglos de 50 y 51 números aleatorios con `numpy` y con funciones determine el promedio, desviación estándar y la mediana del arreglo. No utilice funciones propias de Python para el cálculo. Compare sus resultados con las funciones `np.mean` y `np.median`. \n",
        "\n",
        "Puede usar\n",
        "```\n",
        "C = np.random.normal(0,1,51)\n",
        "```\n",
        "para crear su arreglo. \n"
      ]
    },
    {
      "cell_type": "code",
      "metadata": {
        "id": "eMldqCw3DS74"
      },
      "source": [
        "def partition(array, start, end):\n",
        "    pivot = array[start]\n",
        "    low = start + 1\n",
        "    high = end\n",
        "\n",
        "    while True:\n",
        "        # Si el valor que estamos buscando es más grande que el pivot\n",
        "        # No está en el lugar correcto, o sea a la derecha del pivot,\n",
        "        # Se mueve a la izquierda y se pasa;\n",
        "        while low <= high and array[high] >= pivot:\n",
        "            high = high - 1\n",
        "\n",
        "        # Proceso opuesto al número superior\n",
        "        while low <= high and array[low] <= pivot:\n",
        "            low = low + 1\n",
        "        if low <= high:\n",
        "            array[low], array[high] = array[high], array[low]\n",
        "            # Continúa\n",
        "        else:\n",
        "          #Si ya se cumplió todo el proceso, fin del loop\n",
        "            break\n",
        "\n",
        "    array[start], array[high] = array[high], array[start]\n",
        "\n",
        "    return high\n",
        "\n"
      ],
      "execution_count": null,
      "outputs": []
    },
    {
      "cell_type": "code",
      "metadata": {
        "id": "OeGmhmxpI5NH"
      },
      "source": [
        "def quicksort(array, start, end):\n",
        "    if start >= end:\n",
        "        return\n",
        "\n",
        "    p = partition(array, start, end)\n",
        "    quicksort(array, start, p-1)\n",
        "    quicksort(array, p+1, end)"
      ],
      "execution_count": null,
      "outputs": []
    },
    {
      "cell_type": "code",
      "metadata": {
        "colab": {
          "base_uri": "https://localhost:8080/"
        },
        "id": "WIr64rw22suj",
        "outputId": "80fcfd8e-d187-4f86-8814-0d4193f9ec0b"
      },
      "source": [
        "a1=np.random.normal(0,1,50)\n",
        "a2=np.random.normal(0,1,51)\n",
        "print('Leer de izquierda a derecha y de arriba a abajo')\n",
        "#OJO ----> Quitar los comentarios de los prints por debajo para comparar\n",
        "print('------------Sin quicksort---------------')\n",
        "print('a1')\n",
        "print(a1)\n",
        "print('a2')\n",
        "print(a2)\n",
        "print('------------Con quicksort---------------')\n",
        "quicksort(a1,0,len(a1)-1)\n",
        "quicksort(a2,0,len(a2)-1)\n",
        "print('a1 con quicksort')\n",
        "print(a1)\n",
        "print('a2 con quicksort')\n",
        "print(a2)"
      ],
      "execution_count": null,
      "outputs": [
        {
          "output_type": "stream",
          "name": "stdout",
          "text": [
            "Leer de izquierda a derecha y de arriba a abajo\n",
            "------------Sin quicksort---------------\n",
            "a1\n",
            "[ 0.58898963 -0.09347277  0.60719531 -0.47905023 -1.10406337 -0.15136442\n",
            " -0.7179722   1.02757873  0.489941    1.45142448 -1.03750184 -1.08840513\n",
            "  0.82845632  0.93703852  0.28052343 -0.40703504 -0.44524791 -0.15223784\n",
            " -0.8202629  -0.99700763 -0.23796233 -0.24811192 -0.75551816  0.40554006\n",
            "  0.34966627 -1.58828791 -2.09816808  0.46257164  0.88814052 -0.78832859\n",
            " -0.10581516  1.24591036  0.30719317 -1.1470996  -1.45379697 -0.37086821\n",
            " -1.29710721 -0.77997773 -2.61931301 -2.20543668 -2.3756237  -0.6405606\n",
            "  2.15553858 -0.54860549 -1.08820186  2.47232394  0.81724053  0.22222586\n",
            " -0.39969756 -0.6609061 ]\n",
            "a2\n",
            "[-1.03155547  0.56200472 -0.56553698  0.43483419 -0.76165617  0.58176756\n",
            "  1.10971732 -0.9018876   0.5079006  -0.19251685 -0.9237514  -0.73034969\n",
            " -0.26702027 -1.59717212 -0.64966576 -1.01255513 -1.38404957  0.04530453\n",
            " -0.71494761  0.59875708 -0.50368912 -1.1483973   0.79041417  0.93908403\n",
            " -0.7536142  -0.32632763 -0.47867421  2.0345902  -1.82156665  1.48592262\n",
            " -0.78321384 -0.2892842  -0.06079361 -1.10686849  0.4734354   0.77826944\n",
            " -0.54972463 -1.63374172 -0.86371306  0.36381194 -1.4744748   3.49666284\n",
            "  1.24430066  0.61291535  0.79205838 -0.65801486  0.89637061 -1.00705279\n",
            " -0.28177086 -1.17452871 -0.6646359 ]\n",
            "------------Con quicksort---------------\n",
            "a1 con quicksort\n",
            "[-2.61931301 -2.3756237  -2.20543668 -2.09816808 -1.58828791 -1.45379697\n",
            " -1.29710721 -1.1470996  -1.10406337 -1.08840513 -1.08820186 -1.03750184\n",
            " -0.99700763 -0.8202629  -0.78832859 -0.77997773 -0.75551816 -0.7179722\n",
            " -0.6609061  -0.6405606  -0.54860549 -0.47905023 -0.44524791 -0.40703504\n",
            " -0.39969756 -0.37086821 -0.24811192 -0.23796233 -0.15223784 -0.15136442\n",
            " -0.10581516 -0.09347277  0.22222586  0.28052343  0.30719317  0.34966627\n",
            "  0.40554006  0.46257164  0.489941    0.58898963  0.60719531  0.81724053\n",
            "  0.82845632  0.88814052  0.93703852  1.02757873  1.24591036  1.45142448\n",
            "  2.15553858  2.47232394]\n",
            "a2 con quicksort\n",
            "[-1.82156665 -1.63374172 -1.59717212 -1.4744748  -1.38404957 -1.17452871\n",
            " -1.1483973  -1.10686849 -1.03155547 -1.01255513 -1.00705279 -0.9237514\n",
            " -0.9018876  -0.86371306 -0.78321384 -0.76165617 -0.7536142  -0.73034969\n",
            " -0.71494761 -0.6646359  -0.65801486 -0.64966576 -0.56553698 -0.54972463\n",
            " -0.50368912 -0.47867421 -0.32632763 -0.2892842  -0.28177086 -0.26702027\n",
            " -0.19251685 -0.06079361  0.04530453  0.36381194  0.43483419  0.4734354\n",
            "  0.5079006   0.56200472  0.58176756  0.59875708  0.61291535  0.77826944\n",
            "  0.79041417  0.79205838  0.89637061  0.93908403  1.10971732  1.24430066\n",
            "  1.48592262  2.0345902   3.49666284]\n"
          ]
        }
      ]
    },
    {
      "cell_type": "code",
      "metadata": {
        "id": "aswLcNdzDS74",
        "colab": {
          "base_uri": "https://localhost:8080/"
        },
        "outputId": "b109ac73-b1d8-4adf-ed93-1ff6bf7e91ca"
      },
      "source": [
        "fmt = '%5.5f'\n",
        "#PROMEDIO CON NP\n",
        "def promedio_np(array):\n",
        "  p = np.mean(array,dtype=float)\n",
        "  return p\n",
        "#PROMEDIO CON FUNCIONES:\n",
        "suma_a1=np.sum(a1)\n",
        "promedio_a1 = float(suma_a1/(len(a1)))\n",
        "suma_a2 = np.sum(a2)\n",
        "promedio_a2 = float(suma_a2/(len(a2)))\n",
        "print('Con funciones, el promedio de a1 es: ',fmt%(promedio_a1))\n",
        "print('Con funciones, el promedio de a2 es: ',fmt%(promedio_a2))\n",
        "print('-------------')\n",
        "print('Con Numpy, el promedio de a1 es:     ',fmt%(promedio_np(a1)))\n",
        "print('Con Numpy, el promedio de a2 es:     ',fmt%(promedio_np(a2)))\n",
        "print('______________________________________________________________')\n",
        "print('')\n",
        "#DESVIACIÓN ESTANDAR CON NP:\n",
        "def desvest_np(array):\n",
        "  ds_np = np.std(array,axis=None,dtype=float)\n",
        "  return ds_np\n",
        "#DESVIACIÓN ESTANDAR CON FUNCIONES:\n",
        "for i in a1:\n",
        "  suma_a1 = suma_a1+((i - promedio_a1)**2)\n",
        "for i in a2:\n",
        "  suma_a2 = suma_a2+((i - promedio_a2)**2)\n",
        "def desviacion(array,promedio):\n",
        "  des = 0 \n",
        "  for i in array: \n",
        "    des = des+((i-promedio)**2)\n",
        "  des = np.sqrt((des)/(len(array)))\n",
        "  return des\n",
        "desv_1=desviacion(a1,promedio_a1)\n",
        "desv_2=desviacion(a2,promedio_a2)\n",
        "print('Con funciones, la desviación estándar de a1 es: ',fmt%(desv_1))\n",
        "print('Con funciones, la desviación estándar de a2 es: ',fmt%(desv_2))\n",
        "print('-------------')\n",
        "print('Con Numpy, la desviación estándar de a1 es:     ',fmt%(desvest_np(a1)))\n",
        "print('Con Numpy, la desviación estándar de a2 es:     ',fmt%(desvest_np(a2)))\n",
        "print('______________________________________________________________')\n",
        "#MEDIANA DEL ARREGLO CON NP:\n",
        "def mediana_np(array):\n",
        "  m = np.median(array)\n",
        "  return m\n",
        "#MEDIANA DEL ARREGLO CON FUNCIONES:\n",
        "def mediana(array):\n",
        "    # Se ordena \n",
        "    array.sort()\n",
        "    # Obtener longitud\n",
        "    longitud = len(array)\n",
        "    mitad = int(longitud / 2)\n",
        "    # Si la longitud es par, promediar elementos centrales\n",
        "    if longitud % 2 == 0:\n",
        "        mediana = (array[mitad - 1]+array[mitad]) / 2\n",
        "    else:\n",
        "        # Si no, es la del centro\n",
        "        mediana = array[mitad]\n",
        "    return mediana\n",
        "print('Con funciones, la mediana de a1 es: ',fmt%(mediana(a1)))\n",
        "print('Con funciones, la mediana de a2 es: ',fmt%(mediana(a2)))\n",
        "print('-------------')\n",
        "print('Con Numpy, la mediana de a1 es:     ',fmt%(mediana_np(a1)))\n",
        "print('Con Numpy, la mediana de a2 es:     ',fmt%(mediana_np(a2)))\n",
        "print('______________________________________________________________')"
      ],
      "execution_count": 63,
      "outputs": [
        {
          "output_type": "stream",
          "name": "stdout",
          "text": [
            "Con funciones, el promedio de a1 es:  -0.26731\n",
            "Con funciones, el promedio de a2 es:  -0.16793\n",
            "-------------\n",
            "Con Numpy, el promedio de a1 es:      -0.26731\n",
            "Con Numpy, el promedio de a2 es:      -0.16793\n",
            "______________________________________________________________\n",
            "\n",
            "Con funciones, la desviación estándar de a1 es:  1.06655\n",
            "Con funciones, la desviación estándar de a2 es:  1.02239\n",
            "-------------\n",
            "Con Numpy, la desviación estándar de a1 es:      1.06655\n",
            "Con Numpy, la desviación estándar de a2 es:      1.02239\n",
            "______________________________________________________________\n",
            "Con funciones, la mediana de a1 es:  -0.38528\n",
            "Con funciones, la mediana de a2 es:  -0.47867\n",
            "-------------\n",
            "Con Numpy, la mediana de a1 es:      -0.38528\n",
            "Con Numpy, la mediana de a2 es:      -0.47867\n",
            "______________________________________________________________\n"
          ]
        }
      ]
    },
    {
      "cell_type": "markdown",
      "metadata": {
        "id": "Hx-4WzVIDS75"
      },
      "source": [
        "### Ejercicio 3\n",
        "\n",
        "En Geología estructural, tectónica o sismología muchas veces se estudia los esfuerzos y se describen con el tensor de esfuerzos. Suponga que tenemos un tensor de esfuerzos horizontales (solo 2 dimensiones)\n",
        "$$\n",
        "\\tau = \n",
        "\\begin{bmatrix}\n",
        "\\tau_{xx} & \\tau_{xy}\\\\\n",
        "\\tau_{yx} & \\tau_{yy}\\\\\n",
        "\\end{bmatrix}\n",
        "$$\n",
        "\n",
        "Para un tensor de esfuerzos, siempre es posible encontrar una dirección de tal forma que no haya esfuerzos de cizalla ($\\tau_{xy}=\\tau_{yx}=0$). Cuando esto se obtiene, se dice que se encontró los ejes principales de esfuerzo. \n",
        "$$\n",
        "\\tau^R = \n",
        "\\begin{bmatrix}\n",
        "\\tau_{1} & 0\\\\\n",
        "0 & \\tau_{2}\\\\\n",
        "\\end{bmatrix}\n",
        "$$\n",
        "\n",
        "Por convención, los ejes principales están organizados de tal forma que $|\\tau_1|>|\\tau_2|$.\n",
        "\n",
        "Escriba un programa que determine que ángulo debe rotar la matriz $\\mathbf{\\tau}$ \n",
        "$$\n",
        "\\tau = \\begin{bmatrix}\n",
        "-27.0 & -7.1\\\\\n",
        "-7.1 & -13.0\\\\\n",
        "\\end{bmatrix} = \n",
        "\\begin{bmatrix}\n",
        "\\tau_{xx} & \\tau_{xy}\\\\\n",
        "\\tau_{yx} & \\tau_{yy}\\\\\n",
        "\\end{bmatrix}\n",
        "$$\n",
        "\n",
        "para obtener (lo más cercano posible) un tensor de esfuerzos con sus ejes principales. Para rotar el tensor un ángulo $\\alpha$ debe realizar la operación matricial:\n",
        "$$\n",
        "\\tau^R = R\\tau R^T\n",
        "$$\n",
        "donde \n",
        "$$\n",
        "R = \n",
        "\\begin{bmatrix}\n",
        "\\cos(\\alpha) & -\\sin(\\alpha)\\\\\n",
        "\\sin(\\alpha) & \\cos(\\alpha)\\\\\n",
        "\\end{bmatrix}\n",
        "$$\n",
        "\n",
        "**Ayuda** Recuerde que debe cambiar el ángulo a radianes para calcular el coseno. Permita que el programa haga la búsqueda del ángulo por Ud., por ejemplo con un `for` loop.\n",
        "\n",
        "*Nota**: El mismo (y mejor) resultado se puede obtener utilizando algoritmos de algebra lineal, por ejemplo utilizando los *eigenvalues* y *eigenvectors* de la matriz. Pero esto es para más adelante. \n"
      ]
    },
    {
      "cell_type": "code",
      "metadata": {
        "id": "Aw5g2FB6DS78",
        "colab": {
          "base_uri": "https://localhost:8080/"
        },
        "outputId": "33c2d702-1287-4108-9807-3a75299bb485"
      },
      "source": [
        "import math as math\n",
        "import numpy as np\n",
        "fm='%2.2f'\n",
        "#Definición de la matríz Tao:\n",
        "tao =np.matrix([[-27.0,-7.1],[-7.1,-13.0]])\n",
        "rango=np.arange(0,90,0.001)\n",
        "minimo = 1\n",
        "maximo = 0\n",
        "for i in rango:\n",
        "  R =np.matrix([[np.cos(np.radians(i)),(-1*np.sin(np.radians(i)))],[np.sin(np.radians(i)),np.cos(np.radians(i))]])\n",
        "  R_T = np.transpose(R)\n",
        "  operacion = R*tao*R_T\n",
        "  if (abs(operacion[0,1]) < minimo) and abs((operacion[0,1]) > maximo) :\n",
        "    minimo = operacion[0,1]\n",
        "    posicion = i\n",
        "    print('Para el ejercicio dado, según la matriz','\\n',tao,'\\n','al girar los planos',i,'° se encuentran los planos del esfuerzo')\n"
      ],
      "execution_count": null,
      "outputs": [
        {
          "output_type": "stream",
          "name": "stdout",
          "text": [
            "Para el ejercicio dado, según la matriz \n",
            " [[-27.   -7.1]\n",
            " [ -7.1 -13. ]] \n",
            " al girar los planos 67.297 ° se encuentran los planos del esfuerzo\n"
          ]
        }
      ]
    },
    {
      "cell_type": "code",
      "metadata": {
        "id": "gsGCHmUatQKB",
        "colab": {
          "base_uri": "https://localhost:8080/"
        },
        "outputId": "938ccc41-df1a-45e8-a04a-2b96cbefc33f"
      },
      "source": [
        "print('Fin del taller <:°)')"
      ],
      "execution_count": null,
      "outputs": [
        {
          "output_type": "stream",
          "name": "stdout",
          "text": [
            "Fin del taller <:°)\n"
          ]
        }
      ]
    },
    {
      "cell_type": "code",
      "metadata": {
        "id": "lYR2LxC9z2TE"
      },
      "source": [
        ""
      ],
      "execution_count": null,
      "outputs": []
    }
  ]
}