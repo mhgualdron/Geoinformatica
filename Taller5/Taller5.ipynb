{
  "nbformat": 4,
  "nbformat_minor": 0,
  "metadata": {
    "kernelspec": {
      "display_name": "Python 3 (ipykernel)",
      "language": "python",
      "name": "python3"
    },
    "language_info": {
      "codemirror_mode": {
        "name": "ipython",
        "version": 3
      },
      "file_extension": ".py",
      "mimetype": "text/x-python",
      "name": "python",
      "nbconvert_exporter": "python",
      "pygments_lexer": "ipython3",
      "version": "3.7.10"
    },
    "colab": {
      "name": "Taller5,Mateo_Hernández_Gualdrón.ipynb",
      "provenance": [],
      "collapsed_sections": []
    }
  },
  "cells": [
    {
      "cell_type": "markdown",
      "metadata": {
        "id": "yT4Sbo4CKkQF"
      },
      "source": [
        "# Capítulo 6 - Ejercicios"
      ]
    },
    {
      "cell_type": "markdown",
      "metadata": {
        "id": "jif_TKsZKkQM"
      },
      "source": [
        "### Ejercicio 1\n",
        "\n",
        "Escriba un programa que lea un archivo de texto plano que contenga 5 números por línea (5 columnas). Calcule el promedio de los 5 números y luego substraiga el promedio a cada una de los 5 números originales. Guarde un nuevo archivo con los valores con el promedio removido (*demeaned*). Permite que el usuario pueda especificar el nombre del archivo de entrada y salida. \n",
        "\n",
        "**Nota**: Haga el programa estable, de tal forma que pueda lidiar con cualquier archivo con estas características. \n",
        "\n",
        "Por ejemplo, si el archivo de entrada es\n",
        "```\n",
        "10 20 30 40 50\n",
        "1 2 3 4 5\n",
        "2 4 6 8 10\n",
        "5 5 5 5 5\n",
        "```\n",
        "el programa deberá escribir un nuevo archivo así. \n",
        "```\n",
        "-20.00 -10.00  0.00 10.00 20.00\n",
        "-2.00 -1.00  0.00  1.00  2.00\n",
        "-4.00 -2.00  0.00  2.00  4.00\n",
        " 0.00  0.00  0.00  0.00  0.00\n",
        "```"
      ]
    },
    {
      "cell_type": "code",
      "metadata": {
        "colab": {
          "base_uri": "https://localhost:8080/"
        },
        "id": "hd_UU7Ttwv2V",
        "outputId": "e0cece3e-7250-4579-9e04-ebf7308ad106"
      },
      "source": [
        "#Se ha creado en el bloc de notas un archivo llamato try_data.dat\n",
        "#Se empieza ahora por cargar el drive:\n",
        "from google.colab import drive\n",
        "drive.mount('/content/Mdrive')"
      ],
      "execution_count": 1,
      "outputs": [
        {
          "output_type": "stream",
          "name": "stdout",
          "text": [
            "Mounted at /content/Mdrive\n"
          ]
        }
      ]
    },
    {
      "cell_type": "code",
      "metadata": {
        "colab": {
          "base_uri": "https://localhost:8080/"
        },
        "id": "fCS0EevvxGsJ",
        "outputId": "0c756545-f408-48d3-d484-73a350fa9cce"
      },
      "source": [
        "#Se hace el cambio de directorio:\n",
        "%cd /content/Mdrive/MyDrive/mgual/Geoinfo/Trabajos/taller5/\n",
        "! pwd"
      ],
      "execution_count": 2,
      "outputs": [
        {
          "output_type": "stream",
          "name": "stdout",
          "text": [
            "/content/Mdrive/MyDrive/mgual/Geoinfo/Trabajos/taller5\n",
            "/content/Mdrive/MyDrive/mgual/Geoinfo/Trabajos/taller5\n"
          ]
        }
      ]
    },
    {
      "cell_type": "code",
      "metadata": {
        "id": "W1X7zmMMxe2T"
      },
      "source": [
        "#Imports:\n",
        "import numpy as np"
      ],
      "execution_count": 3,
      "outputs": []
    },
    {
      "cell_type": "code",
      "metadata": {
        "id": "WaGaBUIzKkQO",
        "colab": {
          "base_uri": "https://localhost:8080/"
        },
        "outputId": "b2c1108d-093d-4aca-f1ea-bbb28c7ea312"
      },
      "source": [
        "# prob_c5_1.py\n",
        "#Lectura simple del archivo:\n",
        "import numpy as np\n",
        "import os\n",
        "print('El archivo está descrito en formato .dat y corresponde a: ')\n",
        "fname = 'data/try_data.dat'\n",
        "f = open(fname,'r')\n",
        "for line in f:\n",
        "  print(line)\n",
        "print('')\n",
        "print('Ésta será la prueba para poder trabajar con un programa que lea el archivo e imprima lo requerido')\n",
        "f.close()\n"
      ],
      "execution_count": 4,
      "outputs": [
        {
          "output_type": "stream",
          "name": "stdout",
          "text": [
            "El archivo está descrito en formato .dat y corresponde a: \n",
            "10.0  20.0  30.0  40.0  50.0\n",
            "\n",
            " 1.0   2.0   3.0   4.0   5.0\n",
            "\n",
            " 2.0   4.0   6.0   8.0  10.0\n",
            "\n",
            " 5.0   5.0   5.0   5.0   5.0\n",
            "\n",
            "Ésta será la prueba para poder trabajar con un programa que lea el archivo e imprima lo requerido\n"
          ]
        }
      ]
    },
    {
      "cell_type": "code",
      "metadata": {
        "colab": {
          "base_uri": "https://localhost:8080/"
        },
        "id": "DvAr4zyMyOhH",
        "outputId": "b3988830-48d2-44d4-d29b-92122556cea8"
      },
      "source": [
        "#Se define primero la función:\n",
        "import pickle\n",
        "import os\n",
        "ruta = os.getcwd()\n",
        "archivos = os.listdir(ruta)\n",
        "def promedio (numbers):\n",
        "  p = (np.sum(numbers))/5\n",
        "  return p\n",
        "#Se abre el archivo:\n",
        "try:\n",
        "  fname = input(\"Ingrese el nombre del archivo de 5 columnas en .dat .txt etc... SIN los signos '' :\")\n",
        "  archivo = np.loadtxt(fname) #En mi cado, el fname será: data/try_data.dat\n",
        "  fout = input(\"Ingrese el nombre del archivo final para ser guardado en formado .pdf, SIN los signos '': \")\n",
        "  #En mi caso el fout puede ser data/blank.dat\n",
        "except:\n",
        "  print('Lo siento, el archivo no puede ser leído.')\n",
        "#Se definen las filas a cada vector del archivo importado:\n",
        "f1 = np.array(archivo[0])\n",
        "f2 = np.array(archivo[1])\n",
        "f3 = np.array(archivo[2])\n",
        "f4 = np.array(archivo[3])\n",
        "#Promedio de cada fila:\n",
        "prom1 = promedio(f1)\n",
        "prom2 = promedio(f2)\n",
        "prom3 = promedio(f3)\n",
        "prom4 = promedio(f4)\n",
        "\n",
        "dato1 = f1 - prom1\n",
        "dato2 = f2 - prom2\n",
        "dato3 = f3 - prom3\n",
        "dato4 = f4 - prom4\n",
        "\n",
        "Matriz = np.vstack((dato1,dato2,dato3,dato4))\n",
        "np.savetxt(fout,Matriz,fmt='%2.2f %2.2f %2.2f %2.2f %2.2f')\n",
        "\n",
        "\n",
        "#ABRIENDO EL TEXTO QUE SE CREÓ EN data/blank.dat:\n",
        "F = open(fout,'r')\n",
        "text = F.read()\n",
        "print(text)\n",
        "F.close()"
      ],
      "execution_count": 5,
      "outputs": [
        {
          "output_type": "stream",
          "name": "stdout",
          "text": [
            "Ingrese el nombre del archivo de 5 columnas en .dat .txt etc... SIN los signos '' :data/try_data.dat\n",
            "Ingrese el nombre del archivo final para ser guardado en formado .pdf, SIN los signos '': data/blank.dat\n",
            "-20.00 -10.00 0.00 10.00 20.00\n",
            "-2.00 -1.00 0.00 1.00 2.00\n",
            "-4.00 -2.00 0.00 2.00 4.00\n",
            "0.00 0.00 0.00 0.00 0.00\n",
            "\n"
          ]
        }
      ]
    },
    {
      "cell_type": "markdown",
      "metadata": {
        "id": "HYWv3cTzKkQS"
      },
      "source": [
        "### Ejercicio 2\n",
        "\n",
        "En Geociencias hay múltiples fuentes para obtener información de todo tipo (geofísica, geología, fallas, geoquímica, etc). Una de ellas se llama GEOROC (\\url{http://georoc.mpch-mainz.gwdg.de/georoc/}) que contiene información sobre geoquímica de rocas en el mundo. De ahí se extrajo un archivo llamado `ANDEAN_ARC_1.csv`, que contiene una gran cantidad de información, incluyendo latitud y longitud de muestreo y contenido en peso de $SiO_2$ (entre otras muchas variables).\n",
        "\n",
        "Utilizando su método preferido (por ejemplo con `pandas` o `numpy`), lea el archivo e imprima los primeros 20 líneas con la Latitud, longitud y porcentaje de $SiO_2$ en peso, que los encuentra en las columnas (4, 6, y 27 respectivamente).  \n",
        "\n",
        "Tenga también en cuenta que algunas variables tienen valores inexistentes, así que dependiendo del método, debe ajustar dichos casos. \n",
        "\n",
        "**Ayuda**: Si usa `pandas`, el `DataFrame` se puede convertir a un arreglo de `numpy` con el comando\n",
        "```\n",
        "data = data.to_numpy()\n",
        "```\n",
        "Tenga también en cuenta que algunas variables tienen valores inexistentes, así que dependiendo del método, debe ajustar dichos casos. \n",
        "\n",
        "**Ayuda 2**: También para extraer la primera columna del `DataFrame`\n",
        "```\n",
        "x  = np.array(data.iloc[:,0])\n",
        "```\n",
        "**Ayuda 3**: A veces los archivos de texto plano tienen símbolos poco comunes (la ñ por ejemplo) y se debe especificar el `enconding` del archivo. Por ejemplo, pueden usar `encoding = \"latin\"` en esos casos.  "
      ]
    },
    {
      "cell_type": "code",
      "metadata": {
        "id": "6WK3Mp_0KkQT",
        "colab": {
          "base_uri": "https://localhost:8080/"
        },
        "outputId": "207f998b-17eb-4fb0-e2ea-54681e1e4ee6"
      },
      "source": [
        "# prob_c5_2.py\n",
        "\n",
        "import numpy as np\n",
        "import pandas as pd\n",
        "fname = 'data/ANDEAN_ARC_1.csv'\n",
        "data = pd.read_csv(fname,sep=',', encoding= 'latin',skip_blank_lines=True,low_memory=False)\n",
        "print('Estructura de pandas')\n",
        "print(type(data))\n",
        "print(data) #Se imprime para mostrar que existe el archivo\n",
        "print('--------------------------------------------------------------------------------------------------------------')\n",
        "print('')\n",
        "print('Se imprimen los primeros 20 números de: ')\n",
        "# Extraer columnas a numpy\n",
        "latitud = data.iloc[0:20,4].to_numpy()     #columna 4\n",
        "longitud = data.iloc[0:20,6].to_numpy()    #columna 6\n",
        "porcentaje = data.iloc[0:20,27].to_numpy() #columna 27\n",
        "lat = np.array(latitud,dtype=float)\n",
        "#lat = lat.reshape(4,5)\n",
        "lon = np.array(longitud,dtype=float)\n",
        "#lon = lon.reshape(4,5)\n",
        "por = np.array(porcentaje,dtype=float)\n",
        "#por = por.reshape(4,5)\n",
        "print('')\n",
        "#Loop para mostrar la tabla:\n",
        "print('            LATITUD            LONGITUD        PORCENTAJE SiO2%')\n",
        "for i in range(len(lat)):\n",
        "  print('%19.3f %18.3f %15.3f'%(lat[i],lon[i],por[i]))"
      ],
      "execution_count": 6,
      "outputs": [
        {
          "output_type": "stream",
          "name": "stdout",
          "text": [
            "Estructura de pandas\n",
            "<class 'pandas.core.frame.DataFrame'>\n",
            "                                              CITATIONS  ... UNIQUE_ID\n",
            "0                                               [19951]  ...   1002540\n",
            "1                                               [19951]  ...   1002541\n",
            "2                                               [19951]  ...   1002542\n",
            "3                                               [19951]  ...   1002543\n",
            "4                                               [19951]  ...   1002544\n",
            "...                                                 ...  ...       ...\n",
            "7720  [20438] GONZALES S. N., GRECO G. A., GONZALES ...  ...       NaN\n",
            "7721  [20530] SAMANIEGO P., RIVERA M., MARINO J., GU...  ...       NaN\n",
            "7722  [20531] PALLARES C., QUIDELLEUR X., GILLOT P.-...  ...       NaN\n",
            "7723  [20547] JONES R. E., KIRSTEIN L. A., KASEMANN ...  ...       NaN\n",
            "7724  [20550] HOLM P. M., SOAGER N., ALFASTSEN M., B...  ...       NaN\n",
            "\n",
            "[7725 rows x 171 columns]\n",
            "--------------------------------------------------------------------------------------------------------------\n",
            "\n",
            "Se imprimen los primeros 20 números de: \n",
            "\n",
            "            LATITUD            LONGITUD        PORCENTAJE SiO2%\n",
            "            -35.653            -70.761          57.220\n",
            "            -35.653            -70.761          57.340\n",
            "            -35.653            -70.761          57.390\n",
            "            -35.653            -70.761          58.900\n",
            "            -35.653            -70.761          59.240\n",
            "            -35.653            -70.761          59.340\n",
            "            -35.653            -70.761          60.830\n",
            "            -35.653            -70.761          61.850\n",
            "            -35.653            -70.761          61.910\n",
            "            -35.653            -70.761          62.300\n",
            "            -35.653            -70.761          63.040\n",
            "            -35.653            -70.761          64.320\n",
            "            -35.653            -70.761          64.900\n",
            "            -35.653            -70.761          64.960\n",
            "            -35.653            -70.761          64.980\n",
            "            -35.653            -70.761          65.010\n",
            "            -35.653            -70.761          65.100\n",
            "            -35.653            -70.761          65.370\n",
            "            -35.653            -70.761          66.070\n",
            "            -35.653            -70.761          66.210\n"
          ]
        }
      ]
    },
    {
      "cell_type": "markdown",
      "metadata": {
        "id": "OiAcsAwpKkQU"
      },
      "source": [
        "### Ejercicio 3\n",
        "\n",
        "Usando el ejemplo anterior, describa estadísticamente las características de $SiO_2$, $Al_2O_3$, $FeO_{total}$, $CaO$, $MgO$ (columnas 27, 30,34,35,36). Tenga en cuenta que hay valores vacíos, que no deben ser tenidos en cuenta en el cálculo. \n"
      ]
    },
    {
      "cell_type": "code",
      "metadata": {
        "id": "4FvDWzP4KkQV",
        "colab": {
          "base_uri": "https://localhost:8080/"
        },
        "outputId": "0dd5802b-c282-4c7d-9575-842e76416877"
      },
      "source": [
        "# prob_c5_3.py\n",
        "import numpy as np\n",
        "import pandas as pd\n",
        "fmt = '%2.2f'\n",
        "fname = 'data/ANDEAN_ARC_1.csv'\n",
        "data = pd.read_csv(fname, encoding= 'latin',skip_blank_lines=True,low_memory=False)\n",
        "print('Estructura de pandas')\n",
        "print(type(data))\n",
        "print(data) #Se imprime para mostrar que existe el archivo\n",
        "print('--------------------------------------------------------------------------------------------------------------')\n",
        "print('')\n",
        "print('Se imprimen los primeros 20 números de: ')\n",
        "# Extraer columnas a numpy\n",
        "SiO2_  = data.iloc[0:20,27].to_numpy()   #columna 27\n",
        "Al2O3_ = data.iloc[0:20,30].to_numpy()   #columna 30\n",
        "FeO_t  = data.iloc[0:20,34].to_numpy()   #columna 34\n",
        "CaO_   = data.iloc[0:20,35].to_numpy()   #columna 35\n",
        "MgO_   = data.iloc[0:20,36].to_numpy()   #columna 36\n",
        "#Paso a array:\n",
        "SiO2  = np.array(SiO2_,dtype=float)\n",
        "SiO2  = SiO2.reshape(4,5)\n",
        "Al2O3 = np.array(Al2O3_,dtype=float)\n",
        "Al2O3 = Al2O3.reshape(4,5)\n",
        "FeOt  = np.array(FeO_t,dtype=float)\n",
        "FeOt  = FeOt.reshape(4,5)\n",
        "CaO   = np.array(CaO_,dtype=float)\n",
        "CaO   = CaO.reshape(4,5)\n",
        "MgO   = np.array(MgO_,dtype=float)\n",
        "MgO   = MgO.reshape(4,5)\n",
        "print('')"
      ],
      "execution_count": 7,
      "outputs": [
        {
          "output_type": "stream",
          "name": "stdout",
          "text": [
            "Estructura de pandas\n",
            "<class 'pandas.core.frame.DataFrame'>\n",
            "                                              CITATIONS  ... UNIQUE_ID\n",
            "0                                               [19951]  ...   1002540\n",
            "1                                               [19951]  ...   1002541\n",
            "2                                               [19951]  ...   1002542\n",
            "3                                               [19951]  ...   1002543\n",
            "4                                               [19951]  ...   1002544\n",
            "...                                                 ...  ...       ...\n",
            "7720  [20438] GONZALES S. N., GRECO G. A., GONZALES ...  ...       NaN\n",
            "7721  [20530] SAMANIEGO P., RIVERA M., MARINO J., GU...  ...       NaN\n",
            "7722  [20531] PALLARES C., QUIDELLEUR X., GILLOT P.-...  ...       NaN\n",
            "7723  [20547] JONES R. E., KIRSTEIN L. A., KASEMANN ...  ...       NaN\n",
            "7724  [20550] HOLM P. M., SOAGER N., ALFASTSEN M., B...  ...       NaN\n",
            "\n",
            "[7725 rows x 171 columns]\n",
            "--------------------------------------------------------------------------------------------------------------\n",
            "\n",
            "Se imprimen los primeros 20 números de: \n",
            "\n"
          ]
        }
      ]
    },
    {
      "cell_type": "code",
      "metadata": {
        "colab": {
          "base_uri": "https://localhost:8080/"
        },
        "id": "Wie25VDIpBRb",
        "outputId": "cdb24fa2-0c68-4e63-9cfc-4a4a6dea8a37"
      },
      "source": [
        "print('Porcentajes  de  Sílice    SiO2 (WT%):','\\n',SiO2)\n",
        "print('Porcentajes  de  Aluminio  SiO2 (WT%):','\\n',Al2O3)\n",
        "print('Porcentajes  de  Hierro    SiO2 (WT%):','\\n',FeOt)\n",
        "print('Porcentajes  de  Calcio    SiO2 (WT%):','\\n',CaO)\n",
        "print('Porcentajes  de  Magnesio  SiO2 (WT%):','\\n',MgO,'\\n')\n",
        "print('--------------------------------------------------------------------------------')\n",
        "print('Se establece ahora que para las muestras, de la número 0 a la número 20')\n",
        "print('Los porentajes están dados según la suma de los componentes.','\\n','     En promedio se tiene que:')\n",
        "suma_1 = (np.sum(SiO2))/np.size(SiO2)\n",
        "suma_2 = (np.sum(Al2O3))/np.size(Al2O3)\n",
        "suma_3 = (np.sum(FeOt))/np.size(FeOt)\n",
        "suma_4 = (np.sum(CaO))/np.size(CaO)\n",
        "suma_5 = (np.sum(MgO))/np.size(MgO)\n",
        "print('Las rocas tienen un valor de',fmt%(suma_1),'% de SiO2')\n",
        "print('Las rocas tienen un valor de',fmt%(suma_2),'% de Al2O3')\n",
        "print('Las rocas tienen un valor de',fmt%(suma_3),'% de FeOt')\n",
        "print('Las rocas tienen un valor de',fmt%(suma_4),'% de CaO')\n",
        "print('Las rocas tienen un valor de',fmt%(suma_5),'% de MgO')"
      ],
      "execution_count": 8,
      "outputs": [
        {
          "output_type": "stream",
          "name": "stdout",
          "text": [
            "Porcentajes  de  Sílice    SiO2 (WT%): \n",
            " [[57.22 57.34 57.39 58.9  59.24]\n",
            " [59.34 60.83 61.85 61.91 62.3 ]\n",
            " [63.04 64.32 64.9  64.96 64.98]\n",
            " [65.01 65.1  65.37 66.07 66.21]]\n",
            "Porcentajes  de  Aluminio  SiO2 (WT%): \n",
            " [[17.37 17.22 17.32 17.56 17.4 ]\n",
            " [16.95 17.12 16.69 16.73 16.62]\n",
            " [16.52 16.21 16.06 16.11 16.36]\n",
            " [15.98 16.07 16.31 16.1  15.9 ]]\n",
            "Porcentajes  de  Hierro    SiO2 (WT%): \n",
            " [[6.73 6.37 6.24 6.1  5.88]\n",
            " [5.75 5.53 5.04 5.1  4.91]\n",
            " [4.68 4.   3.98 3.92 4.02]\n",
            " [4.14 3.92 3.79 3.59 3.71]]\n",
            "Porcentajes  de  Calcio    SiO2 (WT%): \n",
            " [[7.47 7.36 7.16 6.79 6.47]\n",
            " [6.4  6.06 5.14 5.31 5.05]\n",
            " [4.52 3.65 3.76 3.77 3.71]\n",
            " [3.62 3.83 3.41 3.19 3.17]]\n",
            "Porcentajes  de  Magnesio  SiO2 (WT%): \n",
            " [[3.7  3.63 3.58 3.35 3.17]\n",
            " [3.09 3.   2.48 2.48 2.4 ]\n",
            " [2.26 1.65 1.57 1.62 1.63]\n",
            " [1.53 1.57 1.5  1.28 1.29]] \n",
            "\n",
            "--------------------------------------------------------------------------------\n",
            "Se establece ahora que para las muestras, de la número 0 a la número 20\n",
            "Los porentajes están dados según la suma de los componentes. \n",
            "      En promedio se tiene que:\n",
            "Las rocas tienen un valor de 62.31 % de SiO2\n",
            "Las rocas tienen un valor de 16.63 % de Al2O3\n",
            "Las rocas tienen un valor de 4.87 % de FeOt\n",
            "Las rocas tienen un valor de 4.99 % de CaO\n",
            "Las rocas tienen un valor de 2.34 % de MgO\n"
          ]
        }
      ]
    },
    {
      "cell_type": "code",
      "metadata": {
        "id": "3iElOqctKkQX",
        "colab": {
          "base_uri": "https://localhost:8080/"
        },
        "outputId": "d6b0b3bf-62b5-460a-84ae-c79e93f4a53d"
      },
      "source": [
        "print('Se realiza ahora la sumatoria de los promedios de las 20 muestras de la roca : ')\n",
        "def suma (a,b,c,d,e):\n",
        "  s = a+b+c+d+e\n",
        "  return s\n",
        "print(fmt%(suma(suma_1,suma_2,suma_3,suma_4,suma_5)),'% es el porcentaje reportado en óxidos de Si,Al,Fe,Ca,Mg')\n",
        "print('Quiere decir que existe un',fmt%(100-suma(suma_1,suma_2,suma_3,suma_4,suma_5)),'% que corresponde a otros óxidos')\n",
        "print('Según la tabla dispuesta, las muestras reportan otros datos menores como Mn,Ti,K,Na,P; a ellos se debe el desfase')"
      ],
      "execution_count": 9,
      "outputs": [
        {
          "output_type": "stream",
          "name": "stdout",
          "text": [
            "Se realiza ahora la sumatoria de los promedios de las 20 muestras de la roca : \n",
            "91.15 % es el porcentaje reportado en óxidos de Si,Al,Fe,Ca,Mg\n",
            "Quiere decir que existe un 8.85 % que corresponde a otros óxidos\n",
            "Según la tabla dispuesta, las muestras reportan otros datos menores como Mn,Ti,K,Na,P; a ellos se debe el desfase\n"
          ]
        }
      ]
    },
    {
      "cell_type": "code",
      "source": [
        "print('Por las características de los óxidos se presume una roca de composición Andesítica.')"
      ],
      "metadata": {
        "colab": {
          "base_uri": "https://localhost:8080/"
        },
        "id": "N3WiNj4McDzh",
        "outputId": "7ce9c354-c28e-4dc0-f0fd-f6551ba29e3b"
      },
      "execution_count": 10,
      "outputs": [
        {
          "output_type": "stream",
          "name": "stdout",
          "text": [
            "Por las características de los óxidos se presume una roca de composición Andesítica.\n"
          ]
        }
      ]
    },
    {
      "cell_type": "code",
      "metadata": {
        "colab": {
          "base_uri": "https://localhost:8080/"
        },
        "id": "Mm5ZgLePqPf6",
        "outputId": "abd99b32-38de-4597-a8ba-4df822b53157"
      },
      "source": [
        "print('Fin del taller <:°)')"
      ],
      "execution_count": 11,
      "outputs": [
        {
          "output_type": "stream",
          "name": "stdout",
          "text": [
            "Fin del taller <:°)\n"
          ]
        }
      ]
    },
    {
      "cell_type": "code",
      "metadata": {
        "id": "JXh2dJa7qR1d"
      },
      "source": [
        ""
      ],
      "execution_count": null,
      "outputs": []
    }
  ]
}