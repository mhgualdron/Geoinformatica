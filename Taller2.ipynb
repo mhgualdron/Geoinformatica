{
  "nbformat": 4,
  "nbformat_minor": 0,
  "metadata": {
    "kernelspec": {
      "display_name": "Python 3 (ipykernel)",
      "language": "python",
      "name": "python3"
    },
    "language_info": {
      "codemirror_mode": {
        "name": "ipython",
        "version": 3
      },
      "file_extension": ".py",
      "mimetype": "text/x-python",
      "name": "python",
      "nbconvert_exporter": "python",
      "pygments_lexer": "ipython3",
      "version": "3.7.10"
    },
    "colab": {
      "provenance": []
    }
  },
  "cells": [
    {
      "cell_type": "markdown",
      "metadata": {
        "id": "1lznyAXlZJ8U"
      },
      "source": [
        "# Capítulo 3 - Ejercicios"
      ]
    },
    {
      "cell_type": "markdown",
      "metadata": {
        "id": "MNAYRiWzZJ8Z"
      },
      "source": [
        "### Ejercicio 1\n",
        "Escriba un programa que imprima una lista de números del 2 al 20, y que muestra si el número es divisible por 2, por 3, por ambos o por ninguno. La salida en pantalla se puede ver algo así\n",
        "```\n",
        "Num   Div by 2 and/or 3?\n",
        "---   ------------------\n",
        "2            by 2\n",
        "3            by 3\n",
        "4            by 2\n",
        "5            neither\n",
        "6            both\n",
        "7            neither\n",
        "```"
      ]
    },
    {
      "cell_type": "code",
      "metadata": {
        "id": "C8WSAiqFgzyC"
      },
      "source": [
        "import numpy as np\n",
        "import math as math\n"
      ],
      "execution_count": null,
      "outputs": []
    },
    {
      "cell_type": "code",
      "metadata": {
        "id": "713Wo0IYZJ8b",
        "colab": {
          "base_uri": "https://localhost:8080/"
        },
        "outputId": "bb658cea-3614-4d54-9ef6-e1326fc69a5e"
      },
      "source": [
        "# div2_3.py\n",
        "# programa imprime una lista de números del 2 al 20, \n",
        "# y muestre si el número es divisible por 2, por 3, \n",
        "# por ambos o por ninguno. \n",
        "print('Num       ','Div by 2 and/or 3?')\n",
        "print('-------------------------------')\n",
        "i=np.arange(2,21,1)\n",
        "for x in i:\n",
        "  if x%2==0 and x%3==0:\n",
        "    print (x,'                  Both')\n",
        "  elif x%2==0 and x%3!=0:\n",
        "    print(x,'                  By 2')\n",
        "  elif x%2!=0 and x%3==0:\n",
        "    print(x,'                  By 3')\n",
        "  elif x%2!=0 and x%3!=0:\n",
        "    print(x,'                  Neither')"
      ],
      "execution_count": null,
      "outputs": [
        {
          "output_type": "stream",
          "name": "stdout",
          "text": [
            "Num        Div by 2 and/or 3?\n",
            "-------------------------------\n",
            "2                   By 2\n",
            "3                   By 3\n",
            "4                   By 2\n",
            "5                   Neither\n",
            "6                   Both\n",
            "7                   Neither\n",
            "8                   By 2\n",
            "9                   By 3\n",
            "10                   By 2\n",
            "11                   Neither\n",
            "12                   Both\n",
            "13                   Neither\n",
            "14                   By 2\n",
            "15                   By 3\n",
            "16                   By 2\n",
            "17                   Neither\n",
            "18                   Both\n",
            "19                   Neither\n",
            "20                   By 2\n"
          ]
        }
      ]
    },
    {
      "cell_type": "markdown",
      "metadata": {
        "id": "v2qfbyJVZJ8d"
      },
      "source": [
        "### Ejercicio 2\n",
        "\n",
        "Escriba un programa que repetidamente le pida al usuario tres valores (reales) `a`, `b`, `c`, para la ecuación \n",
        "cuadrática\n",
        "$$\n",
        "a*x^2 + b*x + c = 0,\n",
        "$$\n",
        "Usando la famosa formula para las raíces de este problema, el programa debe reconocer si \n",
        "hay raíces reales y calcular estos valores. Como resultado, muestre el número de raíces reales y sus valores. \n",
        "El programa debe parar si todos los valores son 0.  \n"
      ]
    },
    {
      "cell_type": "code",
      "metadata": {
        "id": "JZvl5RQnZJ8e",
        "colab": {
          "base_uri": "https://localhost:8080/"
        },
        "outputId": "fbb648bb-1112-40f7-ad07-d459656b1a72"
      },
      "source": [
        "# quad_raiz.py\n",
        "from math import sqrt\n",
        "while True:\n",
        "  try:\n",
        "    intxt=(input('Ingrese los valores separados por espacios de las constantes a,b y c de la cuadrática, triple 0 para finalizar: '))\n",
        "    a1,b1,c1=intxt.split()\n",
        "    a1=float(int(a1))\n",
        "    b1=(float(int(b1)))\n",
        "    c1=(float(int(c1)))\n",
        "    if (a1==0 and b1==0 and c1==0):\n",
        "      break\n",
        "      print ('Over')\n",
        "    def quad_raiz_pos(a,b,c):\n",
        "      sol1=(-1*b + math.sqrt((b**2)-1*(4*a*c)))/2*a\n",
        "      return sol1\n",
        "    def quad_raiz_neg(a,b,c):\n",
        "      sol2=(-1*b - math.sqrt((b**2)-1*(4*a*c)))/2*a\n",
        "      return sol2\n",
        "    print('La solución \"positiva\" es: ',quad_raiz_pos(a1,b1,c1))\n",
        "    print('La solución \"negativa\" es:',quad_raiz_neg(a1,b1,c1))\n",
        "  except:\n",
        "    print('No cae en el dominio de math.sqrt, ingresa otro valor')\n",
        "#Ingresar a=1 , b= 4, c= 2, deberían dar las soluciones: -3.4 y -0.58"
      ],
      "execution_count": null,
      "outputs": [
        {
          "name": "stdout",
          "output_type": "stream",
          "text": [
            "Ingrese los valores separados por espacios de las constantes a,b y c de la cuadrática, triple 0 para finalizar: 1 4 2\n",
            "La solución \"positiva\" es:  -0.5857864376269049\n",
            "La solución \"negativa\" es: -3.414213562373095\n",
            "Ingrese los valores separados por espacios de las constantes a,b y c de la cuadrática, triple 0 para finalizar: 0 0 0\n"
          ]
        }
      ]
    },
    {
      "cell_type": "markdown",
      "metadata": {
        "id": "HBWnTCgRZJ8e"
      },
      "source": [
        "### Ejercicio 4\n",
        "\n",
        "Python con Numpy incluye un modulo para la generación de números aleatorios (llamado `np.random`). Abajo se muestra un ejemplo que imprime en pantalla 20 valores aleatorios entre 0 y 1. \n"
      ]
    },
    {
      "cell_type": "code",
      "metadata": {
        "id": "IFekQXREZJ8f",
        "colab": {
          "base_uri": "https://localhost:8080/"
        },
        "outputId": "9a70f5cc-a185-4cb6-8f38-62bc13dbbd41"
      },
      "source": [
        "# random_example.py\n",
        "# Generate a short list of random number between 0 and 1\n",
        "\n",
        "import numpy as np\n",
        "\n",
        "for i in range(1):\n",
        "   a = np.random.random()\n",
        "   print (a)"
      ],
      "execution_count": null,
      "outputs": [
        {
          "output_type": "stream",
          "name": "stdout",
          "text": [
            "0.924340294268692\n"
          ]
        }
      ]
    },
    {
      "cell_type": "markdown",
      "metadata": {
        "id": "wPhYzmkJZJ8h"
      },
      "source": [
        "\n",
        "Escriba un programa simple de Python para generar $10000$ números aleatorios entre 0 y 1. Realice un test de que tan aleatorio es el generador de números, contando el número de veces que el número cae dentro de 10 rangos distintos entre 0 y 1 (por ejemplo, 0 a 0.1, 0.1 a 0.2, etc.).  Imprima el número total de veces para cada rango en la pantalla. Este es un ejemplo de cómo se puede ver la salida del programa:\n",
        "```\n",
        "0 1009\n",
        "1 1048\n",
        "2 1001\n",
        "3 1038\n",
        "4 1008\n",
        "5 959\n",
        "6 993\n",
        "7 925\n",
        "8 1017\n",
        "9 1002\n",
        "```\n",
        "\n",
        "**AYUDA**:  Cree un arreglo de números enteros (mire el modulo `numpy`) con 10 elementos e inicie con ceros. Para cada número aleatorio, sume una unidad al rango apropiado y así poder adicionar todos los números. \n",
        "\n",
        "\n",
        "**NOTA**: En C o Fortran cada vez que corra el programa, Ud. obtendrá siempre la misma serie de números aleatorios. Esto no es muy buena idea, pero el código para obtener series de números aleatorios distintas cada vez que se corre el programa es complicado. Python fija la semilla del número aleatorio (*seed*) con el reloj del computador, así que no debe ser un problema. \n"
      ]
    },
    {
      "cell_type": "code",
      "metadata": {
        "id": "5b7F4gvjZJ8i",
        "colab": {
          "base_uri": "https://localhost:8080/"
        },
        "outputId": "e52d8a00-3f19-4637-b47c-def194222c96"
      },
      "source": [
        "# rand_check.py\n",
        "import numpy as np\n",
        "i_01 = []\n",
        "i_02 = []\n",
        "i_03 = []\n",
        "i_04 = []\n",
        "i_05 = []\n",
        "i_06 = []\n",
        "i_07 = []\n",
        "i_08 = []\n",
        "i_09 = []\n",
        "i_1 = []\n",
        "for i in range(10000):\n",
        "   a = np.random.random()\n",
        "   if a>=0 and a<0.1:\n",
        "     i_01.append(a)\n",
        "   elif a>=0.1 and a<0.2:\n",
        "     i_02.append(a)\n",
        "   elif a>=0.2 and a<0.3:\n",
        "     i_03.append(a)\n",
        "   elif a>=0.3 and a<0.4:\n",
        "     i_04.append(a)\n",
        "   elif a>=0.4 and a<0.5:\n",
        "     i_05.append(a)\n",
        "   elif a>=0.5 and a<0.6:\n",
        "     i_06.append(a)\n",
        "   elif a>=0.6 and a<0.7:\n",
        "     i_07.append(a)\n",
        "   elif a>=0.7 and a<0.8:\n",
        "     i_08.append(a)\n",
        "   elif a>=0.8 and a<0.9:\n",
        "     i_09.append(a)\n",
        "   elif a>=0.9 and a<1:\n",
        "     i_1.append(a)\n",
        "print('En el intervalo de 0.0 a 0.1 hay: ',len(i_01))\n",
        "print('En el intervalo de 0.1 a 0.2 hay: ',len(i_02))\n",
        "print('En el intervalo de 0.2 a 0.3 hay: ',len(i_03))\n",
        "print('En el intervalo de 0.3 a 0.4 hay: ',len(i_04))\n",
        "print('En el intervalo de 0.4 a 0.5 hay: ',len(i_05))\n",
        "print('En el intervalo de 0.5 a 0.6 hay: ',len(i_06))\n",
        "print('En el intervalo de 0.6 a 0.7 hay: ',len(i_07))\n",
        "print('En el intervalo de 0.7 a 0.8 hay: ',len(i_08))\n",
        "print('En el intervalo de 0.8 a 0.9 hay: ',len(i_09))\n",
        "print('En el intervalo de 0.9 a 1.0 hay: ',len(i_1))\n",
        "\n"
      ],
      "execution_count": null,
      "outputs": [
        {
          "output_type": "stream",
          "name": "stdout",
          "text": [
            "En el intervalo de 0.0 a 0.1 hay:  992\n",
            "En el intervalo de 0.1 a 0.2 hay:  990\n",
            "En el intervalo de 0.2 a 0.3 hay:  999\n",
            "En el intervalo de 0.3 a 0.4 hay:  1024\n",
            "En el intervalo de 0.4 a 0.5 hay:  1046\n",
            "En el intervalo de 0.5 a 0.6 hay:  1026\n",
            "En el intervalo de 0.6 a 0.7 hay:  990\n",
            "En el intervalo de 0.7 a 0.8 hay:  984\n",
            "En el intervalo de 0.8 a 0.9 hay:  970\n",
            "En el intervalo de 0.9 a 1.0 hay:  979\n"
          ]
        }
      ]
    },
    {
      "cell_type": "markdown",
      "metadata": {
        "id": "dcwEfYeqZJ8j"
      },
      "source": [
        "### Ejercicio 5\n",
        "\n",
        "La Tierra de manera general se divide en varias *capas*, corteza, manto y núcleo (interno y externo). Si la Tierra tiene un radio de 6371 km, y lo comparamos con un balón de Baloncesto (24.26 cm de diámetro):\n",
        "Ponga en una tabla y compare \n",
        "- radio del núcleo interno\n",
        "- radio hasta el tope del núcleo externo\n",
        "- radio hasta el `moho` (límite manto-corteza)\n",
        "- Para todos los anteriores, determine su espesor.\n",
        "- La atmósfera (la parte más densa) tiene 16 km de espesor. Cuál es el espesor en nuestro ejemplo?\n",
        "\n",
        "Espesores en km para cada capa\n",
        "$$ T_{crust} = 25,    $$ \n",
        "$$T_{mantle} = 2900, $$ \n",
        "$$T_{ocore}  = 2250, $$ \n",
        "$$T_{icore}  = 1196, $$\n"
      ]
    },
    {
      "cell_type": "code",
      "metadata": {
        "id": "claPfuz9ZJ8k",
        "colab": {
          "base_uri": "https://localhost:8080/"
        },
        "outputId": "76a01700-aace-4fe2-fb4b-9ad955b10d8d"
      },
      "source": [
        "# tierra_balon.py\n",
        "tcrust= 25 #Km\n",
        "tmantle= 2900 #Km\n",
        "tocore= 2250 #Km\n",
        "ticore= 1196 #Km\n",
        "radius1= 6371\n",
        "radius2= 0.0002426 #Km\n",
        "atm1= 16 #Km\n",
        "def regla_de_3 (a,b,c):\n",
        "  d= (c*b)/a\n",
        "  return d\n",
        "\n",
        "bcrust=regla_de_3(radius1,tcrust,(radius2/2))*100000\n",
        "bmantle=regla_de_3(radius1,tmantle,(radius2/2))*100000\n",
        "bocore=regla_de_3(radius1,tocore,(radius2/2))*100000\n",
        "bicore=regla_de_3(radius1,ticore,(radius2/2))*100000\n",
        "\n",
        "print('El espesor de la corteza en el balón es de:', regla_de_3(radius1,tcrust,(radius2/2))*100000,'cm')\n",
        "print('El espesor del manto en el balón es de:', regla_de_3(radius1,tmantle,(radius2/2))*100000,'cm')\n",
        "print('El espesor del núcleo externo en el balón es de:', regla_de_3(radius1,tocore,(radius2/2))*100000,'cm')\n",
        "print('El espesor del núcleo interno en el balón es de :', regla_de_3(radius1,ticore,(radius2/2))*100000,'cm')\n",
        "\n",
        "\n",
        "print(\"                Espesor balon         Radio desde el centro del balon\")\n",
        "print(\"Nucleo interno:   %5.3f\"%bicore,\"cm                    %5.3f\"%bicore,\"cm\")\n",
        "print(\"Nucleo Externo:   %5.3f\"%bocore,\"cm                    %5.3f\"%(bicore+bocore),\"cm\")\n",
        "print(\"Manto:            %5.3f\"%bocore,\"cm                    %5.3f\"%(bicore+bocore+bmantle),\"cm\")\n",
        "print(\"Corteza:          %5.3f\"%bocore,\"cm                    %5.3f\"%(bicore+bocore+bmantle+bcrust),\"cm\")\n"
      ],
      "execution_count": null,
      "outputs": [
        {
          "output_type": "stream",
          "name": "stdout",
          "text": [
            "El espesor de la corteza en el balón es de: 0.04759849317218647 cm\n",
            "El espesor del manto en el balón es de: 5.52142520797363 cm\n",
            "El espesor del núcleo externo en el balón es de: 4.283864385496782 cm\n",
            "El espesor del núcleo interno en el balón es de : 2.277111913357401 cm\n",
            "                Espesor balon         Radio desde el centro del balon\n",
            "Nucleo interno:   2.277 cm                    2.277 cm\n",
            "Nucleo Externo:   4.284 cm                    6.561 cm\n",
            "Manto:            4.284 cm                    12.082 cm\n",
            "Corteza:          4.284 cm                    12.130 cm\n"
          ]
        }
      ]
    },
    {
      "cell_type": "markdown",
      "metadata": {
        "id": "enaj7HOgZJ8k"
      },
      "source": [
        "### Ejercicio 6\n",
        "\n",
        " Calcule la presión $P$ en el interior de la  Tierra, a diferentes profundidades $h$.  Asuma presión hidrostática para la corteza,  densidad del granito $\\rho$, y que $g$ (acc gravedad) es constante.\n",
        "$$\n",
        "P = g*\\rho*h     \n",
        "$$\n"
      ]
    },
    {
      "cell_type": "code",
      "metadata": {
        "id": "IqN4VURKZJ8l",
        "colab": {
          "base_uri": "https://localhost:8080/"
        },
        "outputId": "021db348-42b2-4d3b-d617-beb947021e6c"
      },
      "source": [
        "# pres_tierra.py\n",
        "#Se definen los valores\n",
        "g=9.8 #m/s**2\n",
        "p=2630 #kg/m**3\n",
        "h=float(input(\"Ingrese la profundidad (m): \"))\n",
        "\n",
        "def presion_tierra(g,p,h):\n",
        "    P=g*p*h\n",
        "    return P\n",
        "\n",
        "calculo_presion=presion_tierra(g,p,h)\n",
        "print(\"La presión al interior de la Tierra es: %8.2f\"%calculo_presion,\"\")"
      ],
      "execution_count": null,
      "outputs": [
        {
          "output_type": "stream",
          "name": "stdout",
          "text": [
            "ingrese la profundidad (m): 50\n",
            "la presión al interior de la Tierra es: 1288700.00 \n"
          ]
        }
      ]
    },
    {
      "cell_type": "code",
      "metadata": {
        "id": "CWqahKFdZJ8l",
        "colab": {
          "base_uri": "https://localhost:8080/"
        },
        "outputId": "b1ee06b5-31a2-49fd-f6e7-a996d78213f4"
      },
      "source": [
        "print ('Fin del taller <:°)')"
      ],
      "execution_count": null,
      "outputs": [
        {
          "output_type": "stream",
          "name": "stdout",
          "text": [
            "Fin del taller <:°)\n"
          ]
        }
      ]
    },
    {
      "cell_type": "code",
      "metadata": {
        "id": "eSOTbZz1CFqP"
      },
      "source": [],
      "execution_count": null,
      "outputs": []
    }
  ]
}